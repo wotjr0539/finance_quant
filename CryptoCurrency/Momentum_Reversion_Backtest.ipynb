{
 "cells": [
  {
   "cell_type": "markdown",
   "metadata": {},
   "source": [
    "### 모듈 import"
   ]
  },
  {
   "cell_type": "code",
   "execution_count": 1,
   "metadata": {
    "ExecuteTime": {
     "end_time": "2020-12-30T21:23:04.251560Z",
     "start_time": "2020-12-30T21:23:01.222659Z"
    }
   },
   "outputs": [],
   "source": [
    "import requests\n",
    "from datetime import datetime\n",
    "import pandas as pd\n",
    "import time\n",
    "import ccxt\n",
    "import numpy as np"
   ]
  },
  {
   "cell_type": "markdown",
   "metadata": {},
   "source": [
    "### 데이터 전처리"
   ]
  },
  {
   "cell_type": "code",
   "execution_count": 3,
   "metadata": {
    "ExecuteTime": {
     "end_time": "2020-12-30T21:24:11.933571Z",
     "start_time": "2020-12-30T21:24:11.496739Z"
    }
   },
   "outputs": [],
   "source": [
    "raw_data = pd.read_csv('future_close_20201201_1228.csv')"
   ]
  },
  {
   "cell_type": "code",
   "execution_count": 4,
   "metadata": {
    "ExecuteTime": {
     "end_time": "2020-12-30T21:24:13.211154Z",
     "start_time": "2020-12-30T21:24:12.194873Z"
    }
   },
   "outputs": [],
   "source": [
    "raw_data['Date'] = raw_data['Date'].map(lambda x : datetime.strptime(x, '%Y-%m-%d %H:%M:%S'))\n",
    "raw_data.set_index('Date', inplace = True)"
   ]
  },
  {
   "cell_type": "code",
   "execution_count": 5,
   "metadata": {
    "ExecuteTime": {
     "end_time": "2020-12-30T21:24:13.230103Z",
     "start_time": "2020-12-30T21:24:13.214146Z"
    }
   },
   "outputs": [],
   "source": [
    "future_close = raw_data.copy()"
   ]
  },
  {
   "cell_type": "code",
   "execution_count": 6,
   "metadata": {
    "ExecuteTime": {
     "end_time": "2020-12-30T21:24:13.243071Z",
     "start_time": "2020-12-30T21:24:13.234094Z"
    }
   },
   "outputs": [],
   "source": [
    "future_list = future_close.columns.tolist()"
   ]
  },
  {
   "cell_type": "code",
   "execution_count": 7,
   "metadata": {
    "ExecuteTime": {
     "end_time": "2020-12-30T21:24:13.260024Z",
     "start_time": "2020-12-30T21:24:13.248057Z"
    }
   },
   "outputs": [],
   "source": [
    "small_future = future_close.iloc[-1][future_close.iloc[-1] < 1].index.tolist()"
   ]
  },
  {
   "cell_type": "code",
   "execution_count": 8,
   "metadata": {
    "ExecuteTime": {
     "end_time": "2020-12-30T21:24:13.285954Z",
     "start_time": "2020-12-30T21:24:13.264012Z"
    }
   },
   "outputs": [],
   "source": [
    "future_close = future_close[small_future]"
   ]
  },
  {
   "cell_type": "markdown",
   "metadata": {},
   "source": [
    "### 함수 정리"
   ]
  },
  {
   "cell_type": "code",
   "execution_count": 9,
   "metadata": {
    "ExecuteTime": {
     "end_time": "2020-12-30T21:24:13.674915Z",
     "start_time": "2020-12-30T21:24:13.640008Z"
    }
   },
   "outputs": [],
   "source": [
    "def mom_backtest(frequency, look_period, hold_period, option) :\n",
    "    \n",
    "    buy_fee = 0.0005\n",
    "    sell_fee =  0.0005\n",
    "\n",
    "    future_ret  = future_close.resample('{}T'.format(frequency)).last().pct_change().dropna()\n",
    "    end_repeat = (len(future_ret) - look_period)\n",
    "    idx_list = list(range(0,end_repeat,hold_period))\n",
    "\n",
    "    ### port_ret_list = []\n",
    "    port_ret_list = []\n",
    "    date_list = []\n",
    "    low_num_list = []\n",
    "    high_num_list = []\n",
    "\n",
    "\n",
    "    for idx in idx_list : \n",
    "\n",
    "        lookback_ret = future_ret.iloc[idx:idx+look_period].add(1).cumprod().iloc[-1]\n",
    "        low_mom = lookback_ret[lookback_ret < float(lookback_ret.quantile([0.1]))].index.tolist()\n",
    "        high_mom = lookback_ret[lookback_ret > float(lookback_ret.quantile([0.9]))].index.tolist()\n",
    "\n",
    "        # mean revert startegy\n",
    "        port_num = len(high_mom + low_mom)\n",
    "\n",
    "        # 포트폴리오 갯수 있는지 여부\n",
    "        # 수수료 10bp\n",
    "        if port_num > 0 :\n",
    "            date = future_ret.iloc[idx + look_period : idx + look_period+hold_period].index.unique().tolist()\n",
    "            hold_ret_h = future_ret[high_mom].iloc[idx + look_period : idx + look_period+hold_period].sum(axis=1)\n",
    "            hold_ret_l = future_ret[low_mom].iloc[idx + look_period : idx + look_period+hold_period].sum(axis=1)\n",
    "            \n",
    "            # momentum vs mean revert \n",
    "            if option == 'mom' :\n",
    "                port_ret = (hold_ret_h - hold_ret_l) / port_num\n",
    "            elif option == 'revert' :\n",
    "                port_ret = (hold_ret_l - hold_ret_h) / port_num\n",
    "            else :\n",
    "                print('잘못된 옵션 입력')\n",
    "                error\n",
    "                \n",
    "            port_ret[0] = port_ret[0] - buy_fee\n",
    "            port_ret[-1] = port_ret[-1] - sell_fee\n",
    "            port_ret_list = port_ret_list + port_ret.tolist()\n",
    "        else :\n",
    "            port_ret = 0\n",
    "            port_ret_list = port_ret_list + ( [0] * hold_period )\n",
    "\n",
    "        date_list = date_list + date\n",
    "        low_num_list = low_num_list + ( [len(low_mom)] * len(date) )\n",
    "        high_num_list = high_num_list + ( [len(high_mom)] * len(date) )\n",
    "        \n",
    "    stat = pd.DataFrame()\n",
    "    stat['Date'] = date_list\n",
    "    stat.set_index('Date', inplace = True)\n",
    "    stat['High_num'] = high_num_list\n",
    "    stat['Low_num'] = low_num_list\n",
    "\n",
    "    backtest = pd.DataFrame()\n",
    "    backtest['Date'] = date_list\n",
    "\n",
    "    # frequency, lookback period, holding period\n",
    "    parameter_set = '{}M_{}M_{}M'.format(frequency, frequency*look_period, frequency*hold_period)\n",
    "    backtest[parameter_set] = port_ret_list\n",
    "    backtest.set_index('Date', inplace = True)\n",
    "\n",
    "    plus_ret_num = sum(backtest[parameter_set] > 0)\n",
    "    minus_ret_num = sum(backtest[parameter_set] < 0)\n",
    "    plus_ret_prob = plus_ret_num / (plus_ret_num + minus_ret_num)\n",
    "    \n",
    "    # 양의 수익률 갯수, 음의 수익률 갯수, 양의수익률 확률\n",
    "    stat2 = [plus_ret_num, minus_ret_num, plus_ret_prob]\n",
    "    \n",
    "    return backtest, stat, stat2"
   ]
  },
  {
   "cell_type": "markdown",
   "metadata": {},
   "source": [
    "### backtest"
   ]
  },
  {
   "cell_type": "code",
   "execution_count": 10,
   "metadata": {
    "ExecuteTime": {
     "end_time": "2020-12-30T21:24:14.096789Z",
     "start_time": "2020-12-30T21:24:14.091800Z"
    }
   },
   "outputs": [],
   "source": [
    "# parameter_set_pick\n",
    "# (10, 480, 360, 'mom') -> 3.3일 lookback으로 2.5일 모멘텀 투자 -> 1년 450% 수익\n",
    "# (5, 6, 36, 'revert') -> 3개월 70% 수익 / 1년 700%\n",
    "# (10, 6, 36, 'revert') -> 3개월 50% 수익 / 1년 300%\n",
    "# (3, 6, 48, 'revert') -> 3개월 40% 수익 / 1년 350%"
   ]
  },
  {
   "cell_type": "code",
   "execution_count": 11,
   "metadata": {
    "ExecuteTime": {
     "end_time": "2020-12-30T21:24:14.325188Z",
     "start_time": "2020-12-30T21:24:14.321186Z"
    }
   },
   "outputs": [],
   "source": [
    "### 추가 데이터셋\n",
    "# (10, 6, 24, 'revert') ->  3개월 220%\n",
    "# (10, 12, 24, 'revert') -> 3개월 80%\n",
    "# (5,6,48, 'revert') -> 3개월 220% \n",
    "# (5,12,48, 'revert') -> 3개월 240%"
   ]
  },
  {
   "cell_type": "markdown",
   "metadata": {},
   "source": [
    "### Grid search"
   ]
  },
  {
   "cell_type": "code",
   "execution_count": 16,
   "metadata": {
    "ExecuteTime": {
     "end_time": "2020-12-30T22:08:36.775931Z",
     "start_time": "2020-12-30T22:08:36.769948Z"
    }
   },
   "outputs": [],
   "source": [
    "frequency_list       = [3, 5, 10]\n",
    "lookback_period_list = [6, 12, 24, 36, 48]\n",
    "holding_period_list  = [6, 12, 24, 36, 48]\n",
    "option_list = ['mom', 'revert']"
   ]
  },
  {
   "cell_type": "code",
   "execution_count": 17,
   "metadata": {
    "ExecuteTime": {
     "end_time": "2020-12-30T22:23:21.442986Z",
     "start_time": "2020-12-30T22:08:36.975398Z"
    },
    "scrolled": true
   },
   "outputs": [
    {
     "name": "stdout",
     "output_type": "stream",
     "text": [
      "3_6_6_mom\n",
      "3_6_12_mom\n",
      "3_6_24_mom\n",
      "3_6_36_mom\n",
      "3_6_48_mom\n",
      "3_12_6_mom\n",
      "3_12_12_mom\n",
      "3_12_24_mom\n",
      "3_12_36_mom\n",
      "3_12_48_mom\n",
      "3_24_6_mom\n",
      "3_24_12_mom\n",
      "3_24_24_mom\n",
      "3_24_36_mom\n",
      "3_24_48_mom\n",
      "3_36_6_mom\n",
      "3_36_12_mom\n",
      "3_36_24_mom\n",
      "3_36_36_mom\n",
      "3_36_48_mom\n",
      "3_48_6_mom\n",
      "3_48_12_mom\n",
      "3_48_24_mom\n",
      "3_48_36_mom\n",
      "3_48_48_mom\n",
      "5_6_6_mom\n",
      "5_6_12_mom\n",
      "5_6_24_mom\n",
      "5_6_36_mom\n",
      "5_6_48_mom\n",
      "5_12_6_mom\n",
      "5_12_12_mom\n",
      "5_12_24_mom\n",
      "5_12_36_mom\n",
      "5_12_48_mom\n",
      "5_24_6_mom\n",
      "5_24_12_mom\n",
      "5_24_24_mom\n",
      "5_24_36_mom\n",
      "5_24_48_mom\n",
      "5_36_6_mom\n",
      "5_36_12_mom\n",
      "5_36_24_mom\n",
      "5_36_36_mom\n",
      "5_36_48_mom\n",
      "5_48_6_mom\n",
      "5_48_12_mom\n",
      "5_48_24_mom\n",
      "5_48_36_mom\n",
      "5_48_48_mom\n",
      "10_6_6_mom\n",
      "10_6_12_mom\n",
      "10_6_24_mom\n",
      "10_6_36_mom\n",
      "10_6_48_mom\n",
      "10_12_6_mom\n",
      "10_12_12_mom\n",
      "10_12_24_mom\n",
      "10_12_36_mom\n",
      "10_12_48_mom\n",
      "10_24_6_mom\n",
      "10_24_12_mom\n",
      "10_24_24_mom\n",
      "10_24_36_mom\n",
      "10_24_48_mom\n",
      "10_36_6_mom\n",
      "10_36_12_mom\n",
      "10_36_24_mom\n",
      "10_36_36_mom\n",
      "10_36_48_mom\n",
      "10_48_6_mom\n",
      "10_48_12_mom\n",
      "10_48_24_mom\n",
      "10_48_36_mom\n",
      "10_48_48_mom\n",
      "3_6_6_revert\n",
      "3_6_12_revert\n",
      "3_6_24_revert\n",
      "3_6_36_revert\n",
      "3_6_48_revert\n",
      "3_12_6_revert\n",
      "3_12_12_revert\n",
      "3_12_24_revert\n",
      "3_12_36_revert\n",
      "3_12_48_revert\n",
      "3_24_6_revert\n",
      "3_24_12_revert\n",
      "3_24_24_revert\n",
      "3_24_36_revert\n",
      "3_24_48_revert\n",
      "3_36_6_revert\n",
      "3_36_12_revert\n",
      "3_36_24_revert\n",
      "3_36_36_revert\n",
      "3_36_48_revert\n",
      "3_48_6_revert\n",
      "3_48_12_revert\n",
      "3_48_24_revert\n",
      "3_48_36_revert\n",
      "3_48_48_revert\n",
      "5_6_6_revert\n",
      "5_6_12_revert\n",
      "5_6_24_revert\n",
      "5_6_36_revert\n",
      "5_6_48_revert\n",
      "5_12_6_revert\n",
      "5_12_12_revert\n",
      "5_12_24_revert\n",
      "5_12_36_revert\n",
      "5_12_48_revert\n",
      "5_24_6_revert\n",
      "5_24_12_revert\n",
      "5_24_24_revert\n",
      "5_24_36_revert\n",
      "5_24_48_revert\n",
      "5_36_6_revert\n",
      "5_36_12_revert\n",
      "5_36_24_revert\n",
      "5_36_36_revert\n",
      "5_36_48_revert\n",
      "5_48_6_revert\n",
      "5_48_12_revert\n",
      "5_48_24_revert\n",
      "5_48_36_revert\n",
      "5_48_48_revert\n",
      "10_6_6_revert\n",
      "10_6_12_revert\n",
      "10_6_24_revert\n",
      "10_6_36_revert\n",
      "10_6_48_revert\n",
      "10_12_6_revert\n",
      "10_12_12_revert\n",
      "10_12_24_revert\n",
      "10_12_36_revert\n",
      "10_12_48_revert\n",
      "10_24_6_revert\n",
      "10_24_12_revert\n",
      "10_24_24_revert\n",
      "10_24_36_revert\n",
      "10_24_48_revert\n",
      "10_36_6_revert\n",
      "10_36_12_revert\n",
      "10_36_24_revert\n",
      "10_36_36_revert\n",
      "10_36_48_revert\n",
      "10_48_6_revert\n",
      "10_48_12_revert\n",
      "10_48_24_revert\n",
      "10_48_36_revert\n",
      "10_48_48_revert\n"
     ]
    }
   ],
   "source": [
    "cum_ret_list = []\n",
    "para_list = []\n",
    "prob_list = []\n",
    "for option in option_list :\n",
    "    for frequency in frequency_list :\n",
    "        for lookback in lookback_period_list :\n",
    "            for hold in holding_period_list :\n",
    "                backtest, stat, stat2 = mom_backtest(frequency, lookback, hold, option)\n",
    "                cum_ret_list.append(float(backtest.add(1).cumprod().iloc[-1]))\n",
    "                para_list.append(str(frequency) + '_'+ str(lookback) + '_' + str(hold) + '_' + str(option))\n",
    "                prob_list.append(stat2[2])\n",
    "                print(str(frequency) + '_'+ str(lookback) + '_' + str(hold) + '_' + str(option))"
   ]
  },
  {
   "cell_type": "code",
   "execution_count": 18,
   "metadata": {
    "ExecuteTime": {
     "end_time": "2020-12-30T22:23:21.450964Z",
     "start_time": "2020-12-30T22:23:21.444979Z"
    }
   },
   "outputs": [],
   "source": [
    "grid_ret = pd.DataFrame()"
   ]
  },
  {
   "cell_type": "code",
   "execution_count": 19,
   "metadata": {
    "ExecuteTime": {
     "end_time": "2020-12-30T22:23:21.468916Z",
     "start_time": "2020-12-30T22:23:21.454953Z"
    }
   },
   "outputs": [],
   "source": [
    "grid_ret['cum_ret'] = cum_ret_list\n",
    "grid_ret['para'] = para_list\n",
    "grid_ret['prob'] = prob_list"
   ]
  },
  {
   "cell_type": "code",
   "execution_count": 20,
   "metadata": {
    "ExecuteTime": {
     "end_time": "2020-12-30T22:23:21.507812Z",
     "start_time": "2020-12-30T22:23:21.472906Z"
    },
    "scrolled": true
   },
   "outputs": [
    {
     "data": {
      "text/html": [
       "<div>\n",
       "<style scoped>\n",
       "    .dataframe tbody tr th:only-of-type {\n",
       "        vertical-align: middle;\n",
       "    }\n",
       "\n",
       "    .dataframe tbody tr th {\n",
       "        vertical-align: top;\n",
       "    }\n",
       "\n",
       "    .dataframe thead th {\n",
       "        text-align: right;\n",
       "    }\n",
       "</style>\n",
       "<table border=\"1\" class=\"dataframe\">\n",
       "  <thead>\n",
       "    <tr style=\"text-align: right;\">\n",
       "      <th></th>\n",
       "      <th>cum_ret</th>\n",
       "      <th>para</th>\n",
       "      <th>prob</th>\n",
       "    </tr>\n",
       "  </thead>\n",
       "  <tbody>\n",
       "    <tr>\n",
       "      <th>84</th>\n",
       "      <td>1.576734</td>\n",
       "      <td>3_12_48_revert</td>\n",
       "      <td>0.511366</td>\n",
       "    </tr>\n",
       "    <tr>\n",
       "      <th>127</th>\n",
       "      <td>1.487405</td>\n",
       "      <td>10_6_24_revert</td>\n",
       "      <td>0.519068</td>\n",
       "    </tr>\n",
       "    <tr>\n",
       "      <th>89</th>\n",
       "      <td>1.274170</td>\n",
       "      <td>3_24_48_revert</td>\n",
       "      <td>0.509269</td>\n",
       "    </tr>\n",
       "    <tr>\n",
       "      <th>126</th>\n",
       "      <td>1.248579</td>\n",
       "      <td>10_6_12_revert</td>\n",
       "      <td>0.515713</td>\n",
       "    </tr>\n",
       "    <tr>\n",
       "      <th>88</th>\n",
       "      <td>1.224053</td>\n",
       "      <td>3_24_36_revert</td>\n",
       "      <td>0.509402</td>\n",
       "    </tr>\n",
       "    <tr>\n",
       "      <th>83</th>\n",
       "      <td>1.209553</td>\n",
       "      <td>3_12_36_revert</td>\n",
       "      <td>0.506237</td>\n",
       "    </tr>\n",
       "    <tr>\n",
       "      <th>129</th>\n",
       "      <td>1.194232</td>\n",
       "      <td>10_6_48_revert</td>\n",
       "      <td>0.501894</td>\n",
       "    </tr>\n",
       "    <tr>\n",
       "      <th>102</th>\n",
       "      <td>1.176943</td>\n",
       "      <td>5_6_24_revert</td>\n",
       "      <td>0.506345</td>\n",
       "    </tr>\n",
       "    <tr>\n",
       "      <th>82</th>\n",
       "      <td>1.168361</td>\n",
       "      <td>3_12_24_revert</td>\n",
       "      <td>0.505383</td>\n",
       "    </tr>\n",
       "    <tr>\n",
       "      <th>74</th>\n",
       "      <td>1.150446</td>\n",
       "      <td>10_48_48_mom</td>\n",
       "      <td>0.505450</td>\n",
       "    </tr>\n",
       "    <tr>\n",
       "      <th>104</th>\n",
       "      <td>1.149478</td>\n",
       "      <td>5_6_48_revert</td>\n",
       "      <td>0.504937</td>\n",
       "    </tr>\n",
       "    <tr>\n",
       "      <th>79</th>\n",
       "      <td>1.143164</td>\n",
       "      <td>3_6_48_revert</td>\n",
       "      <td>0.504410</td>\n",
       "    </tr>\n",
       "    <tr>\n",
       "      <th>107</th>\n",
       "      <td>1.116847</td>\n",
       "      <td>5_12_24_revert</td>\n",
       "      <td>0.510793</td>\n",
       "    </tr>\n",
       "    <tr>\n",
       "      <th>128</th>\n",
       "      <td>1.092228</td>\n",
       "      <td>10_6_36_revert</td>\n",
       "      <td>0.501180</td>\n",
       "    </tr>\n",
       "    <tr>\n",
       "      <th>92</th>\n",
       "      <td>1.054394</td>\n",
       "      <td>3_36_24_revert</td>\n",
       "      <td>0.502995</td>\n",
       "    </tr>\n",
       "    <tr>\n",
       "      <th>94</th>\n",
       "      <td>1.032552</td>\n",
       "      <td>3_36_48_revert</td>\n",
       "      <td>0.507589</td>\n",
       "    </tr>\n",
       "    <tr>\n",
       "      <th>78</th>\n",
       "      <td>1.025454</td>\n",
       "      <td>3_6_36_revert</td>\n",
       "      <td>0.499261</td>\n",
       "    </tr>\n",
       "    <tr>\n",
       "      <th>139</th>\n",
       "      <td>1.008544</td>\n",
       "      <td>10_24_48_revert</td>\n",
       "      <td>0.508958</td>\n",
       "    </tr>\n",
       "    <tr>\n",
       "      <th>73</th>\n",
       "      <td>0.977803</td>\n",
       "      <td>10_48_36_mom</td>\n",
       "      <td>0.493839</td>\n",
       "    </tr>\n",
       "    <tr>\n",
       "      <th>98</th>\n",
       "      <td>0.977284</td>\n",
       "      <td>3_48_36_revert</td>\n",
       "      <td>0.504839</td>\n",
       "    </tr>\n",
       "    <tr>\n",
       "      <th>114</th>\n",
       "      <td>0.969171</td>\n",
       "      <td>5_24_48_revert</td>\n",
       "      <td>0.500708</td>\n",
       "    </tr>\n",
       "    <tr>\n",
       "      <th>103</th>\n",
       "      <td>0.965930</td>\n",
       "      <td>5_6_36_revert</td>\n",
       "      <td>0.498592</td>\n",
       "    </tr>\n",
       "    <tr>\n",
       "      <th>49</th>\n",
       "      <td>0.961294</td>\n",
       "      <td>5_48_48_mom</td>\n",
       "      <td>0.497407</td>\n",
       "    </tr>\n",
       "    <tr>\n",
       "      <th>143</th>\n",
       "      <td>0.958321</td>\n",
       "      <td>10_36_36_revert</td>\n",
       "      <td>0.500945</td>\n",
       "    </tr>\n",
       "    <tr>\n",
       "      <th>62</th>\n",
       "      <td>0.957527</td>\n",
       "      <td>10_24_24_mom</td>\n",
       "      <td>0.487041</td>\n",
       "    </tr>\n",
       "    <tr>\n",
       "      <th>138</th>\n",
       "      <td>0.954649</td>\n",
       "      <td>10_24_36_revert</td>\n",
       "      <td>0.495285</td>\n",
       "    </tr>\n",
       "    <tr>\n",
       "      <th>109</th>\n",
       "      <td>0.953153</td>\n",
       "      <td>5_12_48_revert</td>\n",
       "      <td>0.500235</td>\n",
       "    </tr>\n",
       "    <tr>\n",
       "      <th>59</th>\n",
       "      <td>0.952439</td>\n",
       "      <td>10_12_48_mom</td>\n",
       "      <td>0.498813</td>\n",
       "    </tr>\n",
       "    <tr>\n",
       "      <th>132</th>\n",
       "      <td>0.944310</td>\n",
       "      <td>10_12_24_revert</td>\n",
       "      <td>0.500236</td>\n",
       "    </tr>\n",
       "    <tr>\n",
       "      <th>69</th>\n",
       "      <td>0.934640</td>\n",
       "      <td>10_36_48_mom</td>\n",
       "      <td>0.490780</td>\n",
       "    </tr>\n",
       "  </tbody>\n",
       "</table>\n",
       "</div>"
      ],
      "text/plain": [
       "      cum_ret             para      prob\n",
       "84   1.576734   3_12_48_revert  0.511366\n",
       "127  1.487405   10_6_24_revert  0.519068\n",
       "89   1.274170   3_24_48_revert  0.509269\n",
       "126  1.248579   10_6_12_revert  0.515713\n",
       "88   1.224053   3_24_36_revert  0.509402\n",
       "83   1.209553   3_12_36_revert  0.506237\n",
       "129  1.194232   10_6_48_revert  0.501894\n",
       "102  1.176943    5_6_24_revert  0.506345\n",
       "82   1.168361   3_12_24_revert  0.505383\n",
       "74   1.150446     10_48_48_mom  0.505450\n",
       "104  1.149478    5_6_48_revert  0.504937\n",
       "79   1.143164    3_6_48_revert  0.504410\n",
       "107  1.116847   5_12_24_revert  0.510793\n",
       "128  1.092228   10_6_36_revert  0.501180\n",
       "92   1.054394   3_36_24_revert  0.502995\n",
       "94   1.032552   3_36_48_revert  0.507589\n",
       "78   1.025454    3_6_36_revert  0.499261\n",
       "139  1.008544  10_24_48_revert  0.508958\n",
       "73   0.977803     10_48_36_mom  0.493839\n",
       "98   0.977284   3_48_36_revert  0.504839\n",
       "114  0.969171   5_24_48_revert  0.500708\n",
       "103  0.965930    5_6_36_revert  0.498592\n",
       "49   0.961294      5_48_48_mom  0.497407\n",
       "143  0.958321  10_36_36_revert  0.500945\n",
       "62   0.957527     10_24_24_mom  0.487041\n",
       "138  0.954649  10_24_36_revert  0.495285\n",
       "109  0.953153   5_12_48_revert  0.500235\n",
       "59   0.952439     10_12_48_mom  0.498813\n",
       "132  0.944310  10_12_24_revert  0.500236\n",
       "69   0.934640     10_36_48_mom  0.490780"
      ]
     },
     "execution_count": 20,
     "metadata": {},
     "output_type": "execute_result"
    }
   ],
   "source": [
    "grid_ret.sort_values(by = 'cum_ret')[::-1].head(30)"
   ]
  },
  {
   "cell_type": "code",
   "execution_count": 21,
   "metadata": {
    "ExecuteTime": {
     "end_time": "2020-12-30T22:35:55.405171Z",
     "start_time": "2020-12-30T22:35:51.678139Z"
    }
   },
   "outputs": [],
   "source": [
    "backtest, stat, stat2 = mom_backtest(3, 12, 48, 'revert')"
   ]
  },
  {
   "cell_type": "code",
   "execution_count": 22,
   "metadata": {
    "ExecuteTime": {
     "end_time": "2020-12-30T22:36:03.950325Z",
     "start_time": "2020-12-30T22:36:03.942343Z"
    }
   },
   "outputs": [
    {
     "data": {
      "text/plain": [
       "[7266, 6943, 0.5113660356112323]"
      ]
     },
     "execution_count": 22,
     "metadata": {},
     "output_type": "execute_result"
    }
   ],
   "source": [
    "stat2"
   ]
  },
  {
   "cell_type": "code",
   "execution_count": 23,
   "metadata": {
    "ExecuteTime": {
     "end_time": "2020-12-30T22:36:14.271721Z",
     "start_time": "2020-12-30T22:36:13.976544Z"
    }
   },
   "outputs": [
    {
     "data": {
      "text/plain": [
       "<matplotlib.axes._subplots.AxesSubplot at 0x20b47159408>"
      ]
     },
     "execution_count": 23,
     "metadata": {},
     "output_type": "execute_result"
    },
    {
     "data": {
      "image/png": "[encoded data removed]",
      "text/plain": [
       "<Figure size 432x288 with 1 Axes>"
      ]
     },
     "metadata": {
      "needs_background": "light"
     },
     "output_type": "display_data"
    }
   ],
   "source": [
    "backtest.add(1).cumprod().plot()"
   ]
  },
  {
   "cell_type": "code",
   "execution_count": null,
   "metadata": {},
   "outputs": [],
   "source": []
  }
 ],
 "metadata": {
  "kernelspec": {
   "display_name": "Python 3",
   "language": "python",
   "name": "python3"
  },
  "language_info": {
   "codemirror_mode": {
    "name": "ipython",
    "version": 3
   },
   "file_extension": ".py",
   "mimetype": "text/x-python",
   "name": "python",
   "nbconvert_exporter": "python",
   "pygments_lexer": "ipython3",
   "version": "3.7.7"
  },
  "toc": {
   "base_numbering": 1,
   "nav_menu": {},
   "number_sections": true,
   "sideBar": true,
   "skip_h1_title": false,
   "title_cell": "Table of Contents",
   "title_sidebar": "Contents",
   "toc_cell": false,
   "toc_position": {
    "height": "calc(100% - 180px)",
    "left": "10px",
    "top": "150px",
    "width": "349.083px"
   },
   "toc_section_display": true,
   "toc_window_display": true
  }
 },
 "nbformat": 4,
 "nbformat_minor": 4
}

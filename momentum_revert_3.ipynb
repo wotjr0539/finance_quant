{
 "cells": [
  {
   "cell_type": "markdown",
   "metadata": {},
   "source": [
    "### 함수정리"
   ]
  },
  {
   "cell_type": "code",
   "execution_count": 63,
   "metadata": {
    "ExecuteTime": {
     "end_time": "2020-12-28T11:18:39.452687Z",
     "start_time": "2020-12-28T11:18:39.427754Z"
    }
   },
   "outputs": [],
   "source": [
    "def update_crawl(symbol, crawl_start_date) :\n",
    "    \n",
    "    try : \n",
    "        starting = time.time()\n",
    "\n",
    "        ep='https://api.binance.com'\n",
    "        candle = '/api/v3/klines'\n",
    "\n",
    "        start_date = []\n",
    "        start_time = []\n",
    "        openn = []\n",
    "        high = []\n",
    "        low = []\n",
    "        close = []\n",
    "        volume = []\n",
    "        #future_close.index[-1].timestamp() * 1000\n",
    "        #int(str(future_close.index[-1].timestamp() * 1000)[:-2])\n",
    "        #math.floor(time.mktime(future_close.index[-1].timetuple()) * 1000)\n",
    "        start = math.floor(time.mktime(crawl_start_date.timetuple()) * 1000)\n",
    "        first_params_candle = {'symbol': symbol, 'interval' : '1m','startTime' : start , 'limit' : 1 } # 초기세팅\n",
    "        r1 = requests.get(ep+candle, params=first_params_candle )\n",
    "\n",
    "        while len(r1.json()) > 0 :\n",
    "            first_params_candle = {'symbol': symbol, 'interval' : '1m','startTime' : start , 'limit' : 1000 }\n",
    "            r1 = requests.get(ep+candle, params=first_params_candle ) #use parameter\n",
    "            req = r1.json()\n",
    "            for i in range(0,len(req)) : \n",
    "                start_date.append(datetime.fromtimestamp(req[i][0]/1000).strftime('%Y%m%d'))\n",
    "                start_time.append(datetime.fromtimestamp(req[i][0]/1000).strftime('%H%M'))\n",
    "                close.append(req[i][4])\n",
    "            if len(req) > 0 : # 받아온 데이터가 있을 경우 => 다음 루프 시작\n",
    "                start = req[-1][6]+1\n",
    "            else : print(symbol + \" 다운로드 완료\")\n",
    "            #time.sleep(0.25) # 횟수제한을 위해 추가\n",
    "\n",
    "        ticker = [symbol] * len(start_date)\n",
    "\n",
    "        chartData = {'date': start_date, 'time': start_time, 'ticker': ticker, 'close': close}\n",
    "\n",
    "        df = pd.DataFrame(chartData, columns=['date', 'time', 'ticker', 'close'])\n",
    "        df2 = df[['date', 'time', 'close']]\n",
    "        df2.columns = ['date', 'time', symbol]\n",
    "\n",
    "        print(\"소요 시간 : \", time.time() - starting)\n",
    "        \n",
    "        return df2\n",
    "    \n",
    "    # 데이터 안불러 와지는 경우 keyerror가 나므로 예외처리함\n",
    "    except KeyError as e :\n",
    "        print(e)"
   ]
  },
  {
   "cell_type": "code",
   "execution_count": 64,
   "metadata": {
    "ExecuteTime": {
     "end_time": "2020-12-28T11:18:39.468643Z",
     "start_time": "2020-12-28T11:18:39.456677Z"
    }
   },
   "outputs": [],
   "source": [
    "def get_mom_h_l_tlist(frequency, look_period) :\n",
    "\n",
    "    future_ret  = future_close.resample('{}T'.format(frequency)).last().pct_change().dropna()\n",
    "    lookback_ret = future_ret.iloc[-look_period:].add(1).cumprod().iloc[-1]\n",
    "    \n",
    "    low_mom = lookback_ret[lookback_ret < float(lookback_ret.quantile([0.1]))].index.tolist()\n",
    "    high_mom = lookback_ret[lookback_ret > float(lookback_ret.quantile([0.9]))].index.tolist()\n",
    "\n",
    "    return low_mom, high_mom"
   ]
  },
  {
   "cell_type": "code",
   "execution_count": 65,
   "metadata": {
    "ExecuteTime": {
     "end_time": "2020-12-28T11:18:39.483605Z",
     "start_time": "2020-12-28T11:18:39.472633Z"
    }
   },
   "outputs": [],
   "source": [
    "def trade_print(trade_num, single_price, leverage, asset_num) :\n",
    "    \n",
    "    print('### trade number {} ###'.format(trade_num))\n",
    "    print('')\n",
    "    print('총 소비금액 : {}'.format(single_price / leverage * asset_num))\n",
    "    print('')\n",
    "    print('low_mom_asset')\n",
    "    for i in range(3) :\n",
    "        print(str(future_close[low_mom].iloc[-1].index[i]) + ' ' + str(single_price) + ' size 매수')\n",
    "\n",
    "    print('')\n",
    "    print('high_mom_asset')\n",
    "    for i in range(3) :\n",
    "        print(str(future_close[high_mom].iloc[-1].index[i]) + ' ' + str(single_price) + ' size 매도')"
   ]
  },
  {
   "cell_type": "code",
   "execution_count": 66,
   "metadata": {
    "ExecuteTime": {
     "end_time": "2020-12-28T11:18:39.496570Z",
     "start_time": "2020-12-28T11:18:39.487594Z"
    }
   },
   "outputs": [],
   "source": [
    "def time_print(trade_num) :\n",
    "    print('### trade number {} ###'.format(trade_num))\n",
    "    print('(start)          ~ (end)')\n",
    "    hold_start = ( future_close.index[-1] + timedelta(minutes = 1) )\n",
    "    hold_end = ( hold_start + timedelta(minutes = 60) )\n",
    "\n",
    "    hold_start = hold_start.strftime('%Y-%m-%d %H:%M')\n",
    "    hold_end = hold_end.strftime('%Y-%m-%d %H:%M')\n",
    "\n",
    "    print(hold_start + ' ~ ' + hold_end)"
   ]
  },
  {
   "cell_type": "markdown",
   "metadata": {},
   "source": [
    "### 모듈 import"
   ]
  },
  {
   "cell_type": "code",
   "execution_count": 67,
   "metadata": {
    "ExecuteTime": {
     "end_time": "2020-12-28T11:18:39.508537Z",
     "start_time": "2020-12-28T11:18:39.500562Z"
    }
   },
   "outputs": [],
   "source": [
    "import requests\n",
    "from datetime import datetime\n",
    "import pandas as pd\n",
    "import time\n",
    "import ccxt\n",
    "import numpy as np\n",
    "import seaborn as sns\n",
    "import statsmodels.api as sm\n",
    "from scipy import stats\n",
    "from datetime import timedelta\n",
    "import math"
   ]
  },
  {
   "cell_type": "markdown",
   "metadata": {},
   "source": [
    "### 데이터 전처리 & 데이터 업데이트"
   ]
  },
  {
   "cell_type": "code",
   "execution_count": 68,
   "metadata": {
    "ExecuteTime": {
     "end_time": "2020-12-28T11:18:42.048741Z",
     "start_time": "2020-12-28T11:18:39.513525Z"
    }
   },
   "outputs": [],
   "source": [
    "raw_data = pd.read_csv('future_close_20200901_1226.csv')"
   ]
  },
  {
   "cell_type": "code",
   "execution_count": 69,
   "metadata": {
    "ExecuteTime": {
     "end_time": "2020-12-28T11:18:46.607577Z",
     "start_time": "2020-12-28T11:18:42.052732Z"
    }
   },
   "outputs": [
    {
     "name": "stdout",
     "output_type": "stream",
     "text": [
      "CVCUSDT 다운로드 완료\n",
      "소요 시간 :  0.7410175800323486\n"
     ]
    }
   ],
   "source": [
    "raw_data['Date'] = raw_data['Date'].map(lambda x : datetime.strptime(x, '%Y-%m-%d %H:%M:%S'))\n",
    "raw_data.set_index('Date', inplace = True)\n",
    "\n",
    "future_close = raw_data.copy()\n",
    "future_list = future_close.columns.tolist()\n",
    "small_future_list = future_close.iloc[-1][future_close.iloc[-1] < 1].index.tolist()\n",
    "future_close = future_close[small_future_list]\n",
    "\n",
    "update_crawl_date = future_close.index[-1] + timedelta(minutes = 1)\n",
    "update_crawl_date\n",
    "\n",
    "update_all = update_crawl(small_future_list[0], update_crawl_date)\n",
    "update_all = update_all.set_index('date')\n",
    "\n",
    "small_future_list2 = small_future_list.copy()\n",
    "small_future_list2.remove(small_future_list[0])"
   ]
  },
  {
   "cell_type": "code",
   "execution_count": 70,
   "metadata": {
    "ExecuteTime": {
     "end_time": "2020-12-28T11:19:09.604951Z",
     "start_time": "2020-12-28T11:18:46.611571Z"
    },
    "scrolled": true
   },
   "outputs": [
    {
     "name": "stdout",
     "output_type": "stream",
     "text": [
      "KNCUSDT 다운로드 완료\n",
      "소요 시간 :  0.7569770812988281\n",
      "ENJUSDT 다운로드 완료\n",
      "소요 시간 :  0.763958215713501\n",
      "ZRXUSDT 다운로드 완료\n",
      "소요 시간 :  0.7940421104431152\n",
      "IOTAUSDT 다운로드 완료\n",
      "소요 시간 :  0.8081786632537842\n",
      "ADAUSDT 다운로드 완료\n",
      "소요 시간 :  0.8197016716003418\n",
      "IOSTUSDT 다운로드 완료\n",
      "소요 시간 :  0.771937370300293\n",
      "BZRXUSDT 다운로드 완료\n",
      "소요 시간 :  0.8706793785095215\n",
      "BATUSDT 다운로드 완료\n",
      "소요 시간 :  0.8010070323944092\n",
      "ALGOUSDT 다운로드 완료\n",
      "소요 시간 :  0.7556991577148438\n",
      "DOGEUSDT 다운로드 완료\n",
      "소요 시간 :  0.8497302532196045\n",
      "RLCUSDT 다운로드 완료\n",
      "소요 시간 :  0.8248326778411865\n",
      "TRXUSDT 다운로드 완료\n",
      "소요 시간 :  0.7759368419647217\n",
      "STORJUSDT 다운로드 완료\n",
      "소요 시간 :  0.829780101776123\n",
      "LRCUSDT 다운로드 완료\n",
      "소요 시간 :  0.6841714382171631\n",
      "XLMUSDT 다운로드 완료\n",
      "소요 시간 :  0.7789163589477539\n",
      "MATICUSDT 다운로드 완료\n",
      "소요 시간 :  0.828782320022583\n",
      "RSRUSDT 다운로드 완료\n",
      "소요 시간 :  0.7978692054748535\n",
      "ICXUSDT 다운로드 완료\n",
      "소요 시간 :  0.6971356868743896\n",
      "BLZUSDT 다운로드 완료\n",
      "소요 시간 :  0.6754875183105469\n",
      "RENUSDT 다운로드 완료\n",
      "소요 시간 :  0.8247945308685303\n",
      "FTMUSDT 다운로드 완료\n",
      "소요 시간 :  0.7230789661407471\n",
      "TOMOUSDT 다운로드 완료\n",
      "소요 시간 :  0.741018533706665\n",
      "XRPUSDT 다운로드 완료\n",
      "소요 시간 :  0.8487300872802734\n",
      "SXPUSDT 다운로드 완료\n",
      "소요 시간 :  0.8597006797790527\n",
      "CRVUSDT 다운로드 완료\n",
      "소요 시간 :  0.6871638298034668\n",
      "VETUSDT 다운로드 완료\n",
      "소요 시간 :  0.989473819732666\n",
      "ONTUSDT 다운로드 완료\n",
      "소요 시간 :  0.6891562938690186\n",
      "ZILUSDT 다운로드 완료\n",
      "소요 시간 :  0.7958736419677734\n",
      "OCEANUSDT 다운로드 완료\n",
      "소요 시간 :  0.8407495021820068\n"
     ]
    }
   ],
   "source": [
    "for symbol in small_future_list2 :\n",
    "    try : \n",
    "        tmp = update_crawl(symbol, update_crawl_date)\n",
    "        update_all[symbol] = tmp.iloc[:len(update_all), 2].tolist()\n",
    "\n",
    "    # 데이터 없을 경우 tmp가 none type이 되므로 attributeerror가 나게 됨\n",
    "    except AttributeError as e:\n",
    "        print(e)\n",
    "\n",
    "    except ConnectionError as e:\n",
    "        print(e)\n",
    "\n",
    "    except ValueError as e:\n",
    "        print(e)\n",
    "\n",
    "    except TimeoutError as e:\n",
    "        print(e)"
   ]
  },
  {
   "cell_type": "code",
   "execution_count": 71,
   "metadata": {
    "ExecuteTime": {
     "end_time": "2020-12-28T11:19:09.941052Z",
     "start_time": "2020-12-28T11:19:09.607945Z"
    }
   },
   "outputs": [],
   "source": [
    "update_all = update_all.reset_index()\n",
    "update_all['Date'] = update_all['date'] + update_all['time']\n",
    "update_all['Date'] = update_all['Date'].map(lambda x : datetime.strptime(x, '%Y%m%d%H%M'))\n",
    "update_all.set_index('Date', inplace = True)\n",
    "update_all = update_all.iloc[:,2:]\n",
    "update_all = update_all.apply(pd.to_numeric)\n",
    "\n",
    "future_close = pd.concat([future_close,update_all])"
   ]
  },
  {
   "cell_type": "markdown",
   "metadata": {},
   "source": [
    "### get high, low momentum aseet "
   ]
  },
  {
   "cell_type": "code",
   "execution_count": 72,
   "metadata": {
    "ExecuteTime": {
     "end_time": "2020-12-28T11:19:10.088657Z",
     "start_time": "2020-12-28T11:19:09.950028Z"
    }
   },
   "outputs": [],
   "source": [
    "(low_mom, high_mom) = get_mom_h_l_tlist(10,6)"
   ]
  },
  {
   "cell_type": "code",
   "execution_count": 73,
   "metadata": {
    "ExecuteTime": {
     "end_time": "2020-12-28T11:19:10.158472Z",
     "start_time": "2020-12-28T11:19:10.092646Z"
    },
    "scrolled": true
   },
   "outputs": [
    {
     "name": "stdout",
     "output_type": "stream",
     "text": [
      "### trade number 1 ###\n",
      "\n",
      "총 소비금액 : 3.5999999999999996\n",
      "\n",
      "low_mom_asset\n",
      "STORJUSDT 3 size 매수\n",
      "BLZUSDT 3 size 매수\n",
      "OCEANUSDT 3 size 매수\n",
      "\n",
      "high_mom_asset\n",
      "MATICUSDT 3 size 매도\n",
      "RENUSDT 3 size 매도\n",
      "XRPUSDT 3 size 매도\n",
      "\n",
      "### trade number 1 ###\n",
      "(start)          ~ (end)\n",
      "2020-12-28 20:19 ~ 2020-12-28 21:19\n"
     ]
    }
   ],
   "source": [
    "# (trade_num, single_price, leverage, asset_num)\n",
    "trade_print(1, 3, 5, 6)\n",
    "print('')\n",
    "time_print(1)"
   ]
  }
 ],
 "metadata": {
  "kernelspec": {
   "display_name": "Python 3",
   "language": "python",
   "name": "python3"
  },
  "language_info": {
   "codemirror_mode": {
    "name": "ipython",
    "version": 3
   },
   "file_extension": ".py",
   "mimetype": "text/x-python",
   "name": "python",
   "nbconvert_exporter": "python",
   "pygments_lexer": "ipython3",
   "version": "3.7.7"
  },
  "toc": {
   "base_numbering": 1,
   "nav_menu": {},
   "number_sections": true,
   "sideBar": true,
   "skip_h1_title": false,
   "title_cell": "Table of Contents",
   "title_sidebar": "Contents",
   "toc_cell": false,
   "toc_position": {
    "height": "calc(100% - 180px)",
    "left": "10px",
    "top": "150px",
    "width": "349.083px"
   },
   "toc_section_display": true,
   "toc_window_display": true
  }
 },
 "nbformat": 4,
 "nbformat_minor": 4
}

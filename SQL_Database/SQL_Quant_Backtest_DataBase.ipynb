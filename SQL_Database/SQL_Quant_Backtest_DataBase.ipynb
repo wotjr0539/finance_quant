{
 "cells": [
  {
   "cell_type": "code",
   "execution_count": 1,
   "metadata": {},
   "outputs": [
    {
     "name": "stderr",
     "output_type": "stream",
     "text": [
      "C:\\Anaconda\\lib\\site-packages\\pandas_datareader\\compat\\__init__.py:7: FutureWarning: pandas.util.testing is deprecated. Use the functions in the public API at pandas.testing instead.\n",
      "  from pandas.util.testing import assert_frame_equal\n"
     ]
    }
   ],
   "source": [
    "import pandas as pd\n",
    "import numpy as np\n",
    "import seaborn as sns\n",
    "import matplotlib.pyplot as plt\n",
    "import datetime\n",
    "import time\n",
    "from pykrx import stock\n",
    "import FinanceDataReader as fdr\n",
    "import pandas_datareader.data as data\n",
    "import pymysql\n",
    "import csv"
   ]
  },
  {
   "cell_type": "markdown",
   "metadata": {},
   "source": [
    "### 거래소 전종목 가격, 재무, 수급, 공매도, 대차 데이터 수집 (by dataguide)"
   ]
  },
  {
   "cell_type": "code",
   "execution_count": 2,
   "metadata": {},
   "outputs": [
    {
     "data": {
      "text/plain": [
       "\"\\nstock_info = pd.read_csv('stock_info2.csv', encoding = 'CP949')\\nstock_array = np.array(stock_info.iloc[7:,:])\\nstock_info_T = pd.DataFrame(stock_array.T)\\nstock_info_T.columns = stock_info_T.iloc[0,:]\\nstock_info_T2 = stock_info_T.iloc[1:,:]\\nstock_info_T3 = stock_info_T2.iloc[5:,:]\\n\\nstock_except_date = stock_info_T3.iloc[:,1:]\\ndb_ar = np.empty((0,20))\\n\\nfor i in list(range(int(len(stock_except_date.columns) / 18))) :\\n    date_ar = np.array(stock_info_T3.Symbol)[:, np.newaxis]\\n    stock_ar = np.array(stock_except_date.iloc[:, i*18 : i*18 + 18])\\n    lower = np.hstack((date_ar, stock_ar))\\n    \\n    ticker = np.array([stock_except_date.columns[i*18]] * 2654)[:, np.newaxis]\\n    lower = np.hstack((lower, ticker))\\n    db_ar = np.concatenate([db_ar, lower])\\n    print(i)\\n    \\ndb_df = pd.DataFrame(db_ar)\\ndb_df = db_df.iloc[:,1:]\\ndb_df.columns = ['Date', 'Open', 'High', 'Low', 'Close', 'Volume', 'F_own_rate', 'F_own_stock',\\n                 'Covered_account', 'SS_Vol', 'SS_transac', 'SS_account_ratio', 'NB_pension',\\n                 'NB_institute', 'NB_indiv', 'NB_foreign', 'PER', 'PBR', 'Div_ret', 'Ticker']\\ndb_df.to_csv('db_df.csv')\\n\""
      ]
     },
     "execution_count": 2,
     "metadata": {},
     "output_type": "execute_result"
    }
   ],
   "source": [
    "\"\"\"\n",
    "stock_info = pd.read_csv('stock_info2.csv', encoding = 'CP949')\n",
    "stock_array = np.array(stock_info.iloc[7:,:])\n",
    "stock_info_T = pd.DataFrame(stock_array.T)\n",
    "stock_info_T.columns = stock_info_T.iloc[0,:]\n",
    "stock_info_T2 = stock_info_T.iloc[1:,:]\n",
    "stock_info_T3 = stock_info_T2.iloc[5:,:]\n",
    "\n",
    "stock_except_date = stock_info_T3.iloc[:,1:]\n",
    "db_ar = np.empty((0,20))\n",
    "\n",
    "for i in list(range(int(len(stock_except_date.columns) / 18))) :\n",
    "    date_ar = np.array(stock_info_T3.Symbol)[:, np.newaxis]\n",
    "    stock_ar = np.array(stock_except_date.iloc[:, i*18 : i*18 + 18])\n",
    "    lower = np.hstack((date_ar, stock_ar))\n",
    "    \n",
    "    ticker = np.array([stock_except_date.columns[i*18]] * 2654)[:, np.newaxis]\n",
    "    lower = np.hstack((lower, ticker))\n",
    "    db_ar = np.concatenate([db_ar, lower])\n",
    "    print(i)\n",
    "    \n",
    "db_df = pd.DataFrame(db_ar)\n",
    "db_df = db_df.iloc[:,1:]\n",
    "db_df.columns = ['Date', 'Open', 'High', 'Low', 'Close', 'Volume', 'F_own_rate', 'F_own_stock',\n",
    "                 'Covered_account', 'SS_Vol', 'SS_transac', 'SS_account_ratio', 'NB_pension',\n",
    "                 'NB_institute', 'NB_indiv', 'NB_foreign', 'PER', 'PBR', 'Div_ret', 'Ticker']\n",
    "db_df.to_csv('db_df.csv')\n",
    "\"\"\""
   ]
  },
  {
   "cell_type": "markdown",
   "metadata": {},
   "source": [
    "### 시가총액 데이터 추가 수집 (by dataguide)"
   ]
  },
  {
   "cell_type": "code",
   "execution_count": 3,
   "metadata": {},
   "outputs": [
    {
     "data": {
      "text/plain": [
       "\"\\nmarketcap = pd.read_csv('market_cap.csv', encoding = 'CP949')\\n\\nmarketcap_array = np.array(marketcap.iloc[7:,:])\\nmarketcap_T = pd.DataFrame(marketcap_array.T)\\nmarketcap_T.columns = marketcap_T.iloc[0,:]\\nmarketcap_T2 = marketcap_T.iloc[2476:,:]\\n\\nmarketcap_except_date = marketcap_T2.iloc[:,1:]\\ndb_ar = np.empty((0,3))\\n\\nfor i in list(range(int(len(marketcap_except_date.columns)))) :\\n    date_ar = np.array(marketcap_T2.Symbol)[:, np.newaxis]\\n    stock_ar = np.array(marketcap_except_date.iloc[:, i : i + 1])\\n    lower = np.hstack((date_ar, stock_ar))\\n    \\n    ticker = np.array([marketcap_except_date.columns[i]] * 2654)[:, np.newaxis]\\n    lower = np.hstack((lower, ticker))\\n    db_ar = np.concatenate([db_ar, lower])\\n    print(i)\\n    \\ndb_marketcap = pd.DataFrame(db_ar)\\ndb_marketcap.to_csv('db_marketcap.csv')\\n\""
      ]
     },
     "execution_count": 3,
     "metadata": {},
     "output_type": "execute_result"
    }
   ],
   "source": [
    "\"\"\"\n",
    "marketcap = pd.read_csv('market_cap.csv', encoding = 'CP949')\n",
    "\n",
    "marketcap_array = np.array(marketcap.iloc[7:,:])\n",
    "marketcap_T = pd.DataFrame(marketcap_array.T)\n",
    "marketcap_T.columns = marketcap_T.iloc[0,:]\n",
    "marketcap_T2 = marketcap_T.iloc[2476:,:]\n",
    "\n",
    "marketcap_except_date = marketcap_T2.iloc[:,1:]\n",
    "db_ar = np.empty((0,3))\n",
    "\n",
    "for i in list(range(int(len(marketcap_except_date.columns)))) :\n",
    "    date_ar = np.array(marketcap_T2.Symbol)[:, np.newaxis]\n",
    "    stock_ar = np.array(marketcap_except_date.iloc[:, i : i + 1])\n",
    "    lower = np.hstack((date_ar, stock_ar))\n",
    "    \n",
    "    ticker = np.array([marketcap_except_date.columns[i]] * 2654)[:, np.newaxis]\n",
    "    lower = np.hstack((lower, ticker))\n",
    "    db_ar = np.concatenate([db_ar, lower])\n",
    "    print(i)\n",
    "    \n",
    "db_marketcap = pd.DataFrame(db_ar)\n",
    "db_marketcap.to_csv('db_marketcap.csv')\n",
    "\"\"\""
   ]
  },
  {
   "cell_type": "code",
   "execution_count": null,
   "metadata": {},
   "outputs": [],
   "source": []
  },
  {
   "cell_type": "markdown",
   "metadata": {},
   "source": [
    "### 데이터 크롤링 함수"
   ]
  },
  {
   "cell_type": "code",
   "execution_count": 4,
   "metadata": {},
   "outputs": [
    {
     "data": {
      "text/plain": [
       "'\\ndef crawler_pan(ticker_list, start, end) :\\n    cum_df = pd.DataFrame()\\n    for ticker in ticker_list:\\n        print(ticker,\"저장중\")\\n        add_df = data.DataReader(ticker, \\'yahoo\\', start, end)\\n        add_df[\\'ticker\\'] = ticker\\n        cum_df = pd.concat([cum_df, add_df])\\n    return cum_df\\n'"
      ]
     },
     "execution_count": 4,
     "metadata": {},
     "output_type": "execute_result"
    }
   ],
   "source": [
    "\"\"\"\n",
    "def crawler_pan(ticker_list, start, end) :\n",
    "    cum_df = pd.DataFrame()\n",
    "    for ticker in ticker_list:\n",
    "        print(ticker,\"저장중\")\n",
    "        add_df = data.DataReader(ticker, 'yahoo', start, end)\n",
    "        add_df['ticker'] = ticker\n",
    "        cum_df = pd.concat([cum_df, add_df])\n",
    "    return cum_df\n",
    "\"\"\""
   ]
  },
  {
   "cell_type": "code",
   "execution_count": 5,
   "metadata": {},
   "outputs": [
    {
     "data": {
      "text/plain": [
       "'\\ndef crawler_fin(ticker_list, start, end) :\\n    cum_df = pd.DataFrame()\\n    for ticker in ticker_list:\\n        print(ticker,\"저장중\")\\n        add_df = fdr.DataReader(ticker, start, end)\\n        add_df[\\'ticker\\'] = ticker\\n        cum_df = pd.concat([cum_df, add_df])\\n    return cum_df\\n'"
      ]
     },
     "execution_count": 5,
     "metadata": {},
     "output_type": "execute_result"
    }
   ],
   "source": [
    "\"\"\"\n",
    "def crawler_fin(ticker_list, start, end) :\n",
    "    cum_df = pd.DataFrame()\n",
    "    for ticker in ticker_list:\n",
    "        print(ticker,\"저장중\")\n",
    "        add_df = fdr.DataReader(ticker, start, end)\n",
    "        add_df['ticker'] = ticker\n",
    "        cum_df = pd.concat([cum_df, add_df])\n",
    "    return cum_df\n",
    "\"\"\""
   ]
  },
  {
   "cell_type": "markdown",
   "metadata": {},
   "source": [
    "### Sector ETF 가격 데이터 수집 (by pandas datareader)"
   ]
  },
  {
   "cell_type": "code",
   "execution_count": 6,
   "metadata": {},
   "outputs": [
    {
     "data": {
      "text/plain": [
       "\"\\nticker_name = ['KODEX_반도체', 'KODEX_은행', 'KODEX_자동차', 'KODEX_증권', 'KODEX_철강',\\n                 'KODEX_건설', 'KODEX_보험', 'KODEX_운송', 'KODEX_바이오', 'KODEX_IT',\\n                 'KODEX_경기소비재', 'KODEX_필수소비재', 'KODEX_헬스케어', 'KODEX_게임산업',\\n                 'KODEX_2차전지산업', 'KODEX_미디어&엔터', 'KODEX_기계장비', 'KODEX_에너지화학',\\n                 'KODEX_200', 'KOSEF_국고채_10년', 'KODEX_골드선물']\\n\\nticker_list = ['091160.KS',  '091170.KS', '091180.KS', '102970.KS', '117680.KS', '117700.KS', '140700.KS', \\n               '140710.KS', '244580.KS', '266370.KS', '266390.KS', '266410.KS', '266420.KS', '300950.KS', \\n               '305720.KS', '266360.KS', '102960.KS', '117460.KS', '069500.KS', '148070.KS', '132030.KS']\\n\\netf_price = crawler_pan(ticker_list, '2017-04-01', '2020-10-05')\\netf_price.to_csv('etf_price.csv')\\n\""
      ]
     },
     "execution_count": 6,
     "metadata": {},
     "output_type": "execute_result"
    }
   ],
   "source": [
    "\"\"\"\n",
    "ticker_name = ['KODEX_반도체', 'KODEX_은행', 'KODEX_자동차', 'KODEX_증권', 'KODEX_철강',\n",
    "                 'KODEX_건설', 'KODEX_보험', 'KODEX_운송', 'KODEX_바이오', 'KODEX_IT',\n",
    "                 'KODEX_경기소비재', 'KODEX_필수소비재', 'KODEX_헬스케어', 'KODEX_게임산업',\n",
    "                 'KODEX_2차전지산업', 'KODEX_미디어&엔터', 'KODEX_기계장비', 'KODEX_에너지화학',\n",
    "                 'KODEX_200', 'KOSEF_국고채_10년', 'KODEX_골드선물']\n",
    "\n",
    "ticker_list = ['091160.KS',  '091170.KS', '091180.KS', '102970.KS', '117680.KS', '117700.KS', '140700.KS', \n",
    "               '140710.KS', '244580.KS', '266370.KS', '266390.KS', '266410.KS', '266420.KS', '300950.KS', \n",
    "               '305720.KS', '266360.KS', '102960.KS', '117460.KS', '069500.KS', '148070.KS', '132030.KS']\n",
    "\n",
    "etf_price = crawler_pan(ticker_list, '2017-04-01', '2020-10-05')\n",
    "etf_price.to_csv('etf_price.csv')\n",
    "\"\"\""
   ]
  },
  {
   "cell_type": "markdown",
   "metadata": {},
   "source": [
    "### INDEX 가격 데이터 수집(by pandas datareader)"
   ]
  },
  {
   "cell_type": "code",
   "execution_count": 7,
   "metadata": {},
   "outputs": [
    {
     "data": {
      "text/plain": [
       "\"\\nindex_name = ['KOSPI' , 'DOW', 'RUSSELL 2000', 'SP500', 'NIKKEY225', 'NASDAQ', 'SP500VIX', 'HSI']\\nticker_list = ['^KS11', '^DJI', '^RUT', '^GSPC', '^N225', '^IXIC', 'VIX', '^HSI']\\nindex_price = crawler_pan(ticker_list, '2010-01-01', '2020-10-05')\\nindex_price.to_csv('index_price.csv')\\n\""
      ]
     },
     "execution_count": 7,
     "metadata": {},
     "output_type": "execute_result"
    }
   ],
   "source": [
    "\"\"\"\n",
    "index_name = ['KOSPI' , 'DOW', 'RUSSELL 2000', 'SP500', 'NIKKEY225', 'NASDAQ', 'SP500VIX', 'HSI']\n",
    "ticker_list = ['^KS11', '^DJI', '^RUT', '^GSPC', '^N225', '^IXIC', 'VIX', '^HSI']\n",
    "index_price = crawler_pan(ticker_list, '2010-01-01', '2020-10-05')\n",
    "index_price.to_csv('index_price.csv')\n",
    "\"\"\""
   ]
  },
  {
   "cell_type": "markdown",
   "metadata": {},
   "source": [
    "### 환율 데이터 수집(by finance datareader)"
   ]
  },
  {
   "cell_type": "code",
   "execution_count": 8,
   "metadata": {},
   "outputs": [
    {
     "data": {
      "text/plain": [
       "\"\\nindex_name = ['USDKRW', 'CNYKRW', 'JPYKRW']\\nticker_list = ['USD/KRW', 'CNY/KRW', 'JPY/KRW']\\ncurrency = crawler_fin(ticker_list, '2010-01-01', '2020-10-05')\\ncurrency.to_csv('currency.csv')\\n\""
      ]
     },
     "execution_count": 8,
     "metadata": {},
     "output_type": "execute_result"
    }
   ],
   "source": [
    "\"\"\"\n",
    "index_name = ['USDKRW', 'CNYKRW', 'JPYKRW']\n",
    "ticker_list = ['USD/KRW', 'CNY/KRW', 'JPY/KRW']\n",
    "currency = crawler_fin(ticker_list, '2010-01-01', '2020-10-05')\n",
    "currency.to_csv('currency.csv')\n",
    "\"\"\""
   ]
  },
  {
   "cell_type": "markdown",
   "metadata": {},
   "source": [
    "### Risk Free Rate 데이터 수집 (by finance datareader)"
   ]
  },
  {
   "cell_type": "code",
   "execution_count": 9,
   "metadata": {},
   "outputs": [
    {
     "data": {
      "text/plain": [
       "\"\\nrf = pd.read_excel('cd91.xlsx')\\nrf = rf.iloc[13:].dropna(axis=1)\\nrf.columns = ['Date', 'Rate']\\nrf.to_csv('rf.csv', encoding = 'CP949')\\n\""
      ]
     },
     "execution_count": 9,
     "metadata": {},
     "output_type": "execute_result"
    }
   ],
   "source": [
    "\"\"\"\n",
    "rf = pd.read_excel('cd91.xlsx')\n",
    "rf = rf.iloc[13:].dropna(axis=1)\n",
    "rf.columns = ['Date', 'Rate']\n",
    "rf.to_csv('rf.csv', encoding = 'CP949')\n",
    "\"\"\""
   ]
  },
  {
   "cell_type": "markdown",
   "metadata": {},
   "source": [
    "### csv 파일 불러오기 및 전처리"
   ]
  },
  {
   "cell_type": "code",
   "execution_count": 10,
   "metadata": {},
   "outputs": [
    {
     "data": {
      "text/plain": [
       "\"\\nstock = pd.read_csv('db_df.csv').iloc[:,1:]\\nstock['Ticker'] = stock['Ticker'].map(lambda x: str(x)[1:])\\nstock.iloc[:,1:] = stock.iloc[:,1:].applymap(lambda x : x.replace(',', '') if x != np.nan and type(x) != float else x)\\nstock.iloc[:,1:-1] = stock.iloc[:,1:-1].applymap(lambda x : float(x) if x != np.nan and type(x) != float else x)\\nstock = stock.fillna(0)\\nstock.to_csv('db_df3.csv')\\n\""
      ]
     },
     "execution_count": 10,
     "metadata": {},
     "output_type": "execute_result"
    }
   ],
   "source": [
    "\"\"\"\n",
    "stock = pd.read_csv('db_df.csv').iloc[:,1:]\n",
    "stock['Ticker'] = stock['Ticker'].map(lambda x: str(x)[1:])\n",
    "stock.iloc[:,1:] = stock.iloc[:,1:].applymap(lambda x : x.replace(',', '') if x != np.nan and type(x) != float else x)\n",
    "stock.iloc[:,1:-1] = stock.iloc[:,1:-1].applymap(lambda x : float(x) if x != np.nan and type(x) != float else x)\n",
    "stock = stock.fillna(0)\n",
    "stock.to_csv('db_df3.csv')\n",
    "\"\"\"\n"
   ]
  },
  {
   "cell_type": "code",
   "execution_count": 11,
   "metadata": {},
   "outputs": [
    {
     "data": {
      "text/plain": [
       "\"\\nstock = pd.read_csv('db_df3.csv').iloc[:,1:]\\n\\n# ticker 맞춰주기\\nstock['Ticker'] = stock['Ticker'].map(lambda x: '0000' + str(x) if len(str(x)) == 2 else x)\\nstock['Ticker'] = stock['Ticker'].map(lambda x: '000' + str(x) if len(str(x)) == 3 else x)\\nstock['Ticker'] = stock['Ticker'].map(lambda x: '00' + str(x) if len(str(x)) == 4 else x)\\nstock['Ticker'] = stock['Ticker'].map(lambda x: '0' + str(x) if len(str(x)) == 5 else x)\\n\\nstock_price = stock.loc[:,['Date', 'Ticker', 'Open', 'High', 'Low', 'Close', 'Volume']]\\nstock_other = stock.loc[:, ['Date', 'Ticker', 'F_own_rate', 'F_own_stock', 'Covered_account', 'SS_Vol',\\n                            'SS_transac']]\\nstock_netbuy = stock.loc[:, ['Date', 'Ticker', 'NB_pension', 'NB_institute', 'NB_indiv', 'NB_foreign' ]]\\nstock_finance = stock.loc[:, ['Date', 'Ticker', 'PER', 'PBR', 'Div_ret']]\\n\\nmarketcap = pd.read_csv('db_marketcap.csv').iloc[:,1:]\\nmarketcap.columns = ['Date', 'Market_cap', 'Ticker']\\nmarketcap['Ticker'] = marketcap['Ticker'].map(lambda x : x.replace('A', ''))\\nmarketcap = marketcap[marketcap['Ticker'] != '348210']\\nmarketcap = marketcap[['Date', 'Ticker', 'Market_cap']]\\nmarketcap = marketcap.fillna(0)\\n\\nmarketcap.Market_cap = marketcap.Market_cap.map(lambda x : str(x))\\nmarketcap.Market_cap = marketcap.Market_cap.map(lambda x : x.replace(',', ''))\\nmarketcap.Market_cap = marketcap.Market_cap.map(lambda x : float(x))\\n\\netf_price = pd.read_csv('etf_price.csv')\\netf_price['ticker'] = etf_price['ticker'].map(lambda x: str(x)[:6])\\n\\nindex_price = pd.read_csv('index_price.csv')\\ncurrency = pd.read_csv('currency.csv')\\nrf = pd.read_csv('rf.csv').iloc[:,1:]\\n\\netf_price = etf_price[['Date', 'ticker', 'Open', 'High', 'Low', 'Adj Close',  'Volume']]\\netf_price.columns = ['Date', 'Ticker', 'Open', 'High', 'Low', 'Close', 'Volume']\\n\\nindex_price['ticker'] = index_price['ticker'].map(lambda x: x.replace('^', ''))\\nindex_price = index_price[['Date', 'ticker', 'Open', 'High', 'Low', 'Adj Close',  'Volume']]\\nindex_price.columns = ['Date', 'Ticker', 'Open', 'High', 'Low', 'Close', 'Volume']\\n\\ncurrency = currency[['Date', 'ticker', 'Open', 'High', 'Low', 'Close', ]]\\ncurrency.columns = ['Date', 'Ticker', 'Open', 'High', 'Low', 'Close', ]\\n\\nrf['Date'] = pd.to_datetime(rf['Date'])\\n\""
      ]
     },
     "execution_count": 11,
     "metadata": {},
     "output_type": "execute_result"
    }
   ],
   "source": [
    "\"\"\"\n",
    "stock = pd.read_csv('db_df3.csv').iloc[:,1:]\n",
    "\n",
    "# ticker 맞춰주기\n",
    "stock['Ticker'] = stock['Ticker'].map(lambda x: '0000' + str(x) if len(str(x)) == 2 else x)\n",
    "stock['Ticker'] = stock['Ticker'].map(lambda x: '000' + str(x) if len(str(x)) == 3 else x)\n",
    "stock['Ticker'] = stock['Ticker'].map(lambda x: '00' + str(x) if len(str(x)) == 4 else x)\n",
    "stock['Ticker'] = stock['Ticker'].map(lambda x: '0' + str(x) if len(str(x)) == 5 else x)\n",
    "\n",
    "stock_price = stock.loc[:,['Date', 'Ticker', 'Open', 'High', 'Low', 'Close', 'Volume']]\n",
    "stock_other = stock.loc[:, ['Date', 'Ticker', 'F_own_rate', 'F_own_stock', 'Covered_account', 'SS_Vol',\n",
    "                            'SS_transac']]\n",
    "stock_netbuy = stock.loc[:, ['Date', 'Ticker', 'NB_pension', 'NB_institute', 'NB_indiv', 'NB_foreign' ]]\n",
    "stock_finance = stock.loc[:, ['Date', 'Ticker', 'PER', 'PBR', 'Div_ret']]\n",
    "\n",
    "marketcap = pd.read_csv('db_marketcap.csv').iloc[:,1:]\n",
    "marketcap.columns = ['Date', 'Market_cap', 'Ticker']\n",
    "marketcap['Ticker'] = marketcap['Ticker'].map(lambda x : x.replace('A', ''))\n",
    "marketcap = marketcap[marketcap['Ticker'] != '348210']\n",
    "marketcap = marketcap[['Date', 'Ticker', 'Market_cap']]\n",
    "marketcap = marketcap.fillna(0)\n",
    "\n",
    "marketcap.Market_cap = marketcap.Market_cap.map(lambda x : str(x))\n",
    "marketcap.Market_cap = marketcap.Market_cap.map(lambda x : x.replace(',', ''))\n",
    "marketcap.Market_cap = marketcap.Market_cap.map(lambda x : float(x))\n",
    "\n",
    "etf_price = pd.read_csv('etf_price.csv')\n",
    "etf_price['ticker'] = etf_price['ticker'].map(lambda x: str(x)[:6])\n",
    "\n",
    "index_price = pd.read_csv('index_price.csv')\n",
    "currency = pd.read_csv('currency.csv')\n",
    "rf = pd.read_csv('rf.csv').iloc[:,1:]\n",
    "\n",
    "etf_price = etf_price[['Date', 'ticker', 'Open', 'High', 'Low', 'Adj Close',  'Volume']]\n",
    "etf_price.columns = ['Date', 'Ticker', 'Open', 'High', 'Low', 'Close', 'Volume']\n",
    "\n",
    "index_price['ticker'] = index_price['ticker'].map(lambda x: x.replace('^', ''))\n",
    "index_price = index_price[['Date', 'ticker', 'Open', 'High', 'Low', 'Adj Close',  'Volume']]\n",
    "index_price.columns = ['Date', 'Ticker', 'Open', 'High', 'Low', 'Close', 'Volume']\n",
    "\n",
    "currency = currency[['Date', 'ticker', 'Open', 'High', 'Low', 'Close', ]]\n",
    "currency.columns = ['Date', 'Ticker', 'Open', 'High', 'Low', 'Close', ]\n",
    "\n",
    "rf['Date'] = pd.to_datetime(rf['Date'])\n",
    "\"\"\""
   ]
  },
  {
   "cell_type": "markdown",
   "metadata": {},
   "source": [
    "### 종목 / ETF / Index 코드 및 이름 연결 데이터 만들기"
   ]
  },
  {
   "cell_type": "code",
   "execution_count": 12,
   "metadata": {},
   "outputs": [
    {
     "data": {
      "text/plain": [
       "\"\\nstock_info = pd.read_csv('stock_info2.csv', encoding = 'CP949')\\nstock_name = (stock_info.iloc[8:,1].unique()).tolist()\\nstock_ticker = (stock_info.iloc[8:,0].map(lambda x: x.replace('A', '')).unique()).tolist()\\n\\netf_name = ['KODEX_반도체', 'KODEX_은행', 'KODEX_자동차', 'KODEX_증권', 'KODEX_철강',\\n                 'KODEX_건설', 'KODEX_보험', 'KODEX_운송', 'KODEX_바이오', 'KODEX_IT',\\n                 'KODEX_경기소비재', 'KODEX_필수소비재', 'KODEX_헬스케어', 'KODEX_게임산업',\\n                 'KODEX_2차전지산업', 'KODEX_미디어&엔터', 'KODEX_기계장비', 'KODEX_에너지화학',\\n                 'KODEX_200', 'KOSEF_국고채_10년', 'KODEX_골드선물']\\netf_ticker = (etf_price['Ticker'].unique()).tolist()\\n\\nindex_name = ['KOSPI' , 'DOW', 'RUSSELL 2000', 'SP500', 'NIKKEY225', 'NASDAQ', 'SP500VIX', 'HSI']\\nindex_ticker = (index_price['Ticker'].unique()).tolist()\\n\\nclasses = [0] * len(stock_ticker) + [1] * len(etf_ticker) + [2] * len(index_ticker)\\n\\ntotal_ticker = stock_ticker + etf_ticker + index_ticker\\ntotal_name = stock_name + etf_name + index_name\\n\\ninfo = pd.DataFrame()\\ninfo['Ticker'] = total_ticker\\ninfo['Name'] = total_name\\ninfo['Class'] = classes\\ninfo.to_csv('info.csv')\\ninfo = pd.read_csv('info.csv').iloc[:,1:]\\n\""
      ]
     },
     "execution_count": 12,
     "metadata": {},
     "output_type": "execute_result"
    }
   ],
   "source": [
    "\"\"\"\n",
    "stock_info = pd.read_csv('stock_info2.csv', encoding = 'CP949')\n",
    "stock_name = (stock_info.iloc[8:,1].unique()).tolist()\n",
    "stock_ticker = (stock_info.iloc[8:,0].map(lambda x: x.replace('A', '')).unique()).tolist()\n",
    "\n",
    "etf_name = ['KODEX_반도체', 'KODEX_은행', 'KODEX_자동차', 'KODEX_증권', 'KODEX_철강',\n",
    "                 'KODEX_건설', 'KODEX_보험', 'KODEX_운송', 'KODEX_바이오', 'KODEX_IT',\n",
    "                 'KODEX_경기소비재', 'KODEX_필수소비재', 'KODEX_헬스케어', 'KODEX_게임산업',\n",
    "                 'KODEX_2차전지산업', 'KODEX_미디어&엔터', 'KODEX_기계장비', 'KODEX_에너지화학',\n",
    "                 'KODEX_200', 'KOSEF_국고채_10년', 'KODEX_골드선물']\n",
    "etf_ticker = (etf_price['Ticker'].unique()).tolist()\n",
    "\n",
    "index_name = ['KOSPI' , 'DOW', 'RUSSELL 2000', 'SP500', 'NIKKEY225', 'NASDAQ', 'SP500VIX', 'HSI']\n",
    "index_ticker = (index_price['Ticker'].unique()).tolist()\n",
    "\n",
    "classes = [0] * len(stock_ticker) + [1] * len(etf_ticker) + [2] * len(index_ticker)\n",
    "\n",
    "total_ticker = stock_ticker + etf_ticker + index_ticker\n",
    "total_name = stock_name + etf_name + index_name\n",
    "\n",
    "info = pd.DataFrame()\n",
    "info['Ticker'] = total_ticker\n",
    "info['Name'] = total_name\n",
    "info['Class'] = classes\n",
    "info.to_csv('info.csv')\n",
    "info = pd.read_csv('info.csv').iloc[:,1:]\n",
    "\"\"\""
   ]
  },
  {
   "cell_type": "markdown",
   "metadata": {},
   "source": [
    "### SQL 접속"
   ]
  },
  {
   "cell_type": "code",
   "execution_count": 13,
   "metadata": {},
   "outputs": [
    {
     "data": {
      "text/plain": [
       "\"\\n# 접속\\nstock_db = pymysql.connect(\\n    user='crawling',\\n    passwd='crawling123!',\\n    host='137.68.236.12', \\n    port=3306,\\n    db='prj', \\n    charset='utf8'\\n    )\\n\""
      ]
     },
     "execution_count": 13,
     "metadata": {},
     "output_type": "execute_result"
    }
   ],
   "source": [
    "\"\"\"\n",
    "# 접속\n",
    "stock_db = pymysql.connect(\n",
    "    user='crawling',\n",
    "    passwd='crawling123!',\n",
    "    host='137.68.236.12', \n",
    "    port=3306,\n",
    "    db='prj', \n",
    "    charset='utf8'\n",
    "    )\n",
    "\"\"\""
   ]
  },
  {
   "cell_type": "markdown",
   "metadata": {},
   "source": [
    "### mysql에 데이터 insert하는 함수"
   ]
  },
  {
   "cell_type": "code",
   "execution_count": 14,
   "metadata": {},
   "outputs": [
    {
     "data": {
      "text/plain": [
       "'\\ndef insert(df) :\\n    insert_list = np.vstack(np.array(df)).tolist()\\n    val = insert_list\\n\\n    cur = stock_db.cursor()\\n    cur.executemany(sql, val)\\n    stock_db.commit()\\n\\n    result = cur.fetchall()\\n    return(result)\\n'"
      ]
     },
     "execution_count": 14,
     "metadata": {},
     "output_type": "execute_result"
    }
   ],
   "source": [
    "\"\"\"\n",
    "def insert(df) :\n",
    "    insert_list = np.vstack(np.array(df)).tolist()\n",
    "    val = insert_list\n",
    "\n",
    "    cur = stock_db.cursor()\n",
    "    cur.executemany(sql, val)\n",
    "    stock_db.commit()\n",
    "\n",
    "    result = cur.fetchall()\n",
    "    return(result)\n",
    "\"\"\""
   ]
  },
  {
   "cell_type": "markdown",
   "metadata": {},
   "source": [
    "# insert 과정 주석처리 #"
   ]
  },
  {
   "cell_type": "markdown",
   "metadata": {},
   "source": [
    "##### stock_price, stock_finance, stock_netbuy, stock_other, etf_price, marketcap 데이터를 db에 삽입"
   ]
  },
  {
   "cell_type": "markdown",
   "metadata": {},
   "source": [
    "##### master table인 tb_info 테이블 먼저 데이터 작업 #####\n",
    "    sql_drop_info = \"\"\"\n",
    "    DROP TABLE IF EXISTS tb_info;\n",
    "    \"\"\"\n",
    "\n",
    "    sql_create_info = \"\"\"\n",
    "    CREATE TABLE tb_info (\n",
    "        Ticker VARCHAR(12),\n",
    "        Name VARCHAR(20),\n",
    "        Class INT,\n",
    "        PRIMARY KEY (Ticker)\n",
    "        );\n",
    "    \"\"\"\n",
    "\n",
    "    cur.execute(sql_drop_info)\n",
    "    cur.execute(sql_create_info)\n",
    "\n",
    "    sql_info = \"\"\"\n",
    "    INSERT INTO tb_info VALUES (%s, %s, %s)\n",
    "    \"\"\"\n",
    "\n",
    "    f_info = open('info.csv', 'r', encoding = 'utf-8')\n",
    "    rd_info = list(csv.reader(f_info))\n",
    "\n",
    "    for data_info in rd_info[1: ] :\n",
    "        cur.execute(sql_info, (data_info[1], data_info[2], data_info[3]))\n",
    "\n",
    "    prj_db.commit()\n",
    "    f_info.close()\n",
    "\n",
    "    prj_db.close()"
   ]
  },
  {
   "cell_type": "code",
   "execution_count": null,
   "metadata": {},
   "outputs": [],
   "source": [
    "\"\"\"\n",
    "sql = \"INSERT INTO tb_etf_price(Date, Ticker, Open, High, Low, Close, Volume) VALUES( %s, %s, %s, %s, %s, %s, %s)\"\n",
    "insert(etf_price)\n",
    "\n",
    "sql = \"INSERT INTO tb_stk_price(Date, Ticker, Open, High, Low, Close, Volume) VALUES( %s, %s, %s, %s, %s, %s, %s)\"\n",
    "insert(stock_price)\n",
    "\n",
    "sql = \"INSERT INTO tb_stk_fin(Date, Ticker, PER, PBR, Div_ret) VALUES( %s, %s, %s, %s, %s)\"\n",
    "insert(stock_finance)\n",
    "\n",
    "sql = \"INSERT INTO tb_stk_etc(Date, Ticker, F_rate, F_num, Covered_acc, SS_vol, SS_transac) VALUES( %s, %s, %s, %s, %s, %s, %s)\"\n",
    "insert(stock_other)\n",
    "\n",
    "sql = \"INSERT INTO tb_stk_netbuy(Date, Ticker, Pension, Inst, Indiv, Foreign_) VALUES( %s, %s, %s, %s, %s, %s)\"\n",
    "insert(stock_netbuy)\n",
    "\n",
    "sql = \"INSERT INTO tb_mkt_cap(Date, Ticker, Mkt_cap) VALUES( %s, %s, %s)\"\n",
    "insert(marketcap)\n",
    "\n",
    "sql = \"INSERT INTO tb_currency(Date, Ticker, Open, High, Low, Close) VALUES( %s, %s, %s, %s, %s, %s)\" \n",
    "insert(currency)\n",
    "\"\"\""
   ]
  },
  {
   "cell_type": "markdown",
   "metadata": {},
   "source": [
    "### db 접속"
   ]
  },
  {
   "cell_type": "code",
   "execution_count": 15,
   "metadata": {},
   "outputs": [
    {
     "data": {
      "text/plain": [
       "\"\\n# 접속\\nprj_db = pymysql.connect(\\n    user='crawling',\\n    passwd='crawling123!',\\n    host='137.68.236.12', \\n    port=3306,\\n    db='prj', \\n    charset='utf8'\\n    )\\ncur = prj_db.cursor()\\n\""
      ]
     },
     "execution_count": 15,
     "metadata": {},
     "output_type": "execute_result"
    }
   ],
   "source": [
    "\"\"\"\n",
    "# 접속\n",
    "prj_db = pymysql.connect(\n",
    "    user='crawling',\n",
    "    passwd='crawling123!',\n",
    "    host='137.68.236.12', \n",
    "    port=3306,\n",
    "    db='prj', \n",
    "    charset='utf8'\n",
    "    )\n",
    "cur = prj_db.cursor()\n",
    "\"\"\""
   ]
  },
  {
   "cell_type": "markdown",
   "metadata": {},
   "source": [
    "### risk free, index price, info 테이블 insert"
   ]
  },
  {
   "cell_type": "markdown",
   "metadata": {},
   "source": [
    "#%%\n",
    "\n",
    "##### rf 데이터 작업 #####\n",
    "\n",
    "##### SQL 테이블 처리\n",
    "    sql_drop_rf = \"\"\"\n",
    "    DROP TABLE IF EXISTS tb_rf;\n",
    "    \"\"\"\n",
    "\n",
    "    sql_create_rf = \"\"\"\n",
    "    CREATE TABLE tb_rf (\n",
    "        Date DATE, \n",
    "        Rate DECIMAL(3,2),\n",
    "        PRIMARY KEY (Date)\n",
    "        );\n",
    "    \"\"\"\n",
    "\n",
    "    cur.execute(sql_drop_rf)\n",
    "    cur.execute(sql_create_rf)"
   ]
  },
  {
   "cell_type": "markdown",
   "metadata": {},
   "source": [
    "##### rf 데이터 입력\n",
    "    sql_rf = \"\"\"\n",
    "    INSERT INTO tb_rf VALUES (%s, %s)\n",
    "    \"\"\"\n",
    "\n",
    "##### CSV 파일 직접 읽어오기\n",
    "    f_rf = open('rf.csv', 'r', encoding = 'utf-8')\n",
    "    rd_rf = list(csv.reader(f_rf))\n",
    "    rd_rf = pd.DataFrame(rd_rf)\n",
    "    rd_rf.iloc[1:,1] = rd_rf.iloc[1:,1].map(lambda x : str(x)[:10])\n",
    "    rd_rf = np.array(rd_rf).tolist()\n",
    "\n",
    "    for data_rf in rd_rf[1:] :\n",
    "        cur.execute(sql_rf, (data_rf[1], data_rf[2]))\n",
    "\n",
    "    prj_db.commit()\n",
    "    f_rf.close()"
   ]
  },
  {
   "cell_type": "markdown",
   "metadata": {},
   "source": [
    "#%%\n",
    "\n",
    "##### index price 데이터 작업 #####\n",
    "\n",
    "##### SQL 테이블 처리\n",
    "    sql_drop_idx_price = \"\"\"\n",
    "    DROP TABLE IF EXISTS tb_idx_price;\n",
    "    \"\"\"\n",
    "\n",
    "    sql_create_idx_price = \"\"\"\n",
    "    CREATE TABLE tb_idx_price (\n",
    "        Date DATE,\n",
    "        Ticker VARCHAR(12),\n",
    "        Open int,\n",
    "        High int,\n",
    "        Low int,\n",
    "        Close int,\n",
    "        Adj_Close int,    \n",
    "        Volume BIGINT,\n",
    "        primary key (Date, Ticker),\n",
    "        foreign key (Ticker) references tb_info(Ticker)\n",
    "        );\n",
    "    \"\"\"\n",
    "\n",
    "    cur.execute(sql_drop_idx_price)\n",
    "    cur.execute(sql_create_idx_price)"
   ]
  },
  {
   "cell_type": "markdown",
   "metadata": {},
   "source": [
    "##### index price 데이터 입력\n",
    "    sql_idx_price = \"\"\"\n",
    "    INSERT INTO tb_idx_price VALUES (%s, %s, %s, %s, %s, %s, %s, %s)\n",
    "    \"\"\"\n",
    "\n",
    "##### CSV 파일 직접 읽어오기\n",
    "    f_idx_price = open('index_price.csv', 'r', encoding = 'utf-8')\n",
    "    rd_idx_price = list(csv.reader(f_idx_price))\n",
    "    rd_idx_price = pd.DataFrame(rd_idx_price)\n",
    "    rd_idx_price.columns = ['Date', 'High', 'Low', 'Open', 'Close', 'Volume', 'Adj_Close', 'ticker']\n",
    "    rd_idx_price = rd_idx_price.iloc[1:,:]\n",
    "    rd_idx_price = rd_idx_price[['Date','ticker', 'Open', 'High', 'Low', 'Close', 'Adj_Close', 'Volume']]\n",
    "    rd_idx_price = rd_idx_price[rd_idx_price['Date'] >= '2010-01-04']\n",
    "    rd_idx_price = np.array(rd_idx_price).tolist()\n",
    "\n",
    "    for data_idx_price in rd_idx_price :\n",
    "        cur.execute(sql_idx_price, (data_idx_price[0], data_idx_price[1], data_idx_price[2], data_idx_price[3], data_idx_price[4], data_idx_price[5], data_idx_price[6], data_idx_price[7]))\n",
    "\n",
    "    prj_db.commit()\n",
    "    f_idx_price.close()"
   ]
  },
  {
   "cell_type": "code",
   "execution_count": null,
   "metadata": {},
   "outputs": [],
   "source": []
  },
  {
   "cell_type": "code",
   "execution_count": null,
   "metadata": {},
   "outputs": [],
   "source": []
  },
  {
   "cell_type": "markdown",
   "metadata": {},
   "source": [
    "### 계량적 투자전략\n",
    "    1. 시가총액 5000억 이상이고,\n",
    "    2. per이 5에서 10 사이인 종목 오름차순으로 30종목\n",
    "    3. 외국인 한달동안의 순매수 상위 10종목\n",
    "    * 동일비중, 한달에 한번 리밸런싱 가정 "
   ]
  },
  {
   "cell_type": "code",
   "execution_count": 2,
   "metadata": {},
   "outputs": [],
   "source": [
    "# 접속\n",
    "stock_db = pymysql.connect(\n",
    "    user='crawling',\n",
    "    passwd='crawling123!',\n",
    "    host='137.68.236.156', \n",
    "    port=3306,\n",
    "    db='prj', \n",
    "    charset='utf8'\n",
    "    )"
   ]
  },
  {
   "cell_type": "markdown",
   "metadata": {},
   "source": [
    "##### 시가총액 500억 이상 가져오기 (가격정보 / 순매수정보 / 인덱스정보)"
   ]
  },
  {
   "cell_type": "code",
   "execution_count": 17,
   "metadata": {},
   "outputs": [],
   "source": [
    "sql = \"\"\"\n",
    "select date, ticker, per\n",
    "from tb_stk_fin\n",
    "where ticker in\n",
    "(\n",
    "select distinct ticker from tb_mkt_cap where mkt_cap > 50000 and date = '2010-01-04'\n",
    ");\n",
    "\"\"\"\n",
    "cur = stock_db.cursor()\n",
    "cur.execute(sql)\n",
    "stock_db.commit()\n",
    "\n",
    "result = cur.fetchall()"
   ]
  },
  {
   "cell_type": "code",
   "execution_count": 18,
   "metadata": {},
   "outputs": [],
   "source": [
    "finance = pd.DataFrame(result)"
   ]
  },
  {
   "cell_type": "code",
   "execution_count": 19,
   "metadata": {},
   "outputs": [],
   "source": [
    "sql = \"\"\"\n",
    "select date, ticker, foreign_\n",
    "from tb_stk_netbuy\n",
    "where ticker in\n",
    "(\n",
    "select distinct ticker from tb_mkt_cap where mkt_cap > 50000 and date = '2010-01-04'\n",
    ");\n",
    "\"\"\"\n",
    "cur = stock_db.cursor()\n",
    "cur.execute(sql)\n",
    "stock_db.commit()\n",
    "\n",
    "result = cur.fetchall()"
   ]
  },
  {
   "cell_type": "code",
   "execution_count": 20,
   "metadata": {},
   "outputs": [],
   "source": [
    "netbuy = pd.DataFrame(result)"
   ]
  },
  {
   "cell_type": "code",
   "execution_count": 21,
   "metadata": {},
   "outputs": [],
   "source": [
    "sql = \"\"\"\n",
    "select date, ticker, close\n",
    "from tb_stk_price\n",
    "where ticker in\n",
    "(\n",
    "select distinct ticker from tb_mkt_cap where mkt_cap > 50000 and date = '2010-01-04'\n",
    ");\n",
    "\"\"\"\n",
    "cur = stock_db.cursor()\n",
    "cur.execute(sql)\n",
    "stock_db.commit()\n",
    "\n",
    "result = cur.fetchall()"
   ]
  },
  {
   "cell_type": "code",
   "execution_count": 22,
   "metadata": {},
   "outputs": [],
   "source": [
    "close = pd.DataFrame(result)"
   ]
  },
  {
   "cell_type": "code",
   "execution_count": 23,
   "metadata": {},
   "outputs": [],
   "source": [
    "sql = \"\"\"\n",
    "select *\n",
    "from tb_idx_price\n",
    "where ticker = '^ks11'\n",
    "\"\"\"\n",
    "cur = stock_db.cursor()\n",
    "cur.execute(sql)\n",
    "stock_db.commit()\n",
    "\n",
    "result = cur.fetchall()"
   ]
  },
  {
   "cell_type": "code",
   "execution_count": 24,
   "metadata": {},
   "outputs": [],
   "source": [
    "index = pd.DataFrame(result)"
   ]
  },
  {
   "cell_type": "code",
   "execution_count": 25,
   "metadata": {},
   "outputs": [],
   "source": [
    "finance.columns = ['date', 'ticker', 'per']\n",
    "netbuy.columns = ['date', 'ticker', 'foreign']\n",
    "close.columns = ['date', 'ticker', 'close']"
   ]
  },
  {
   "cell_type": "code",
   "execution_count": 26,
   "metadata": {},
   "outputs": [],
   "source": [
    "finance['date'] = pd.to_datetime(finance['date'])\n",
    "netbuy['date'] = pd.to_datetime(netbuy['date'])\n",
    "close['date'] = pd.to_datetime(close['date'])"
   ]
  },
  {
   "cell_type": "code",
   "execution_count": 27,
   "metadata": {},
   "outputs": [],
   "source": [
    "finance = finance.set_index('date')\n",
    "netbuy = netbuy.set_index('date')\n",
    "close = close.set_index('date')"
   ]
  },
  {
   "cell_type": "code",
   "execution_count": 28,
   "metadata": {},
   "outputs": [],
   "source": [
    "per_m = finance.groupby([pd.Grouper(freq='1M'), 'ticker']).last()\n",
    "per_m2 = per_m[per_m [per_m > 5] < 10].reset_index()[['date','ticker','per']].dropna()\n",
    "per_30 = per_m2.sort_values(by = 'per').groupby('date').head(30).sort_values('date')\n",
    "per_30_list = per_30.groupby('date')['ticker'].apply(list)\n",
    "per_30_list = per_30_list[:-1]\n",
    "\n",
    "foreign = netbuy.groupby([pd.Grouper(freq='1M'), 'ticker']).mean()\n",
    "foreign = foreign.reset_index()\n",
    "netbuy_ticker = pd.DataFrame()\n",
    "netbuy_ticker['date'] = pd.to_datetime(list(foreign['date'].unique()))\n",
    "\n",
    "tmp_foreign = foreign[foreign['date'] == per_30_list.index[0]].set_index('ticker')\n",
    "f_buy_mean = tmp_foreign.loc[per_30_list[0],:].sort_values(by = 'foreign', ascending = False)[:10]\n",
    "f_buy_ticker = np.array(f_buy_mean.index)"
   ]
  },
  {
   "cell_type": "code",
   "execution_count": 29,
   "metadata": {},
   "outputs": [],
   "source": [
    "for i in range(len(per_30_list.index)) :\n",
    "    tmp_foreign = foreign[foreign['date'] == per_30_list.index[i]].set_index('ticker')\n",
    "    f_buy_mean = tmp_foreign.loc[per_30_list[i],:].sort_values(by = 'foreign', ascending = False)[:10]\n",
    "    f_buy_ticker2 = np.array(f_buy_mean.index)\n",
    "    f_buy_ticker = np.vstack([f_buy_ticker, f_buy_ticker2])"
   ]
  },
  {
   "cell_type": "code",
   "execution_count": 30,
   "metadata": {},
   "outputs": [],
   "source": [
    "netbuy_ticker['f_buy_m'] = f_buy_ticker.tolist()\n",
    "close2 = close.groupby([pd.Grouper(freq='1M'), 'ticker']).last().reset_index()\n",
    "tmp_close = close.reset_index()\n",
    "tmp_close.index = tmp_close.date\n",
    "netbuy_ticker.index = netbuy_ticker.date"
   ]
  },
  {
   "cell_type": "code",
   "execution_count": 31,
   "metadata": {},
   "outputs": [],
   "source": [
    "tmp_date = close[close['ticker'] == '005930']\n",
    "netbuy_ticker.index = tmp_date.assign(Date = tmp_date.index).resample('bm').last().set_index('Date').index"
   ]
  },
  {
   "cell_type": "code",
   "execution_count": 32,
   "metadata": {},
   "outputs": [],
   "source": [
    "backtest = pd.DataFrame()\n",
    "backtest['date'] = list(pd.to_datetime(tmp_close['date'].unique()))\n",
    "backtest.index = backtest.date\n",
    "backtest['f_buy_m'] = netbuy_ticker['f_buy_m']\n",
    "\n",
    "netbuy_ticker['date'] = backtest.resample('bm').last()['date']\n",
    "netbuy_ticker['bdate'] = backtest.resample('bm').last()['date']"
   ]
  },
  {
   "cell_type": "code",
   "execution_count": 33,
   "metadata": {},
   "outputs": [],
   "source": [
    "backtest2 = pd.DataFrame()\n",
    "backtest2['date']= backtest.assign(Date = backtest.index).resample('bm').last().set_index('Date').index.tolist()\n",
    "backtest2 = backtest2.set_index('date')\n",
    "backtest2['final_ticker'] = netbuy_ticker['f_buy_m'].tolist()\n",
    "backtest2 = pd.DataFrame(backtest2['final_ticker'])"
   ]
  },
  {
   "cell_type": "code",
   "execution_count": 34,
   "metadata": {},
   "outputs": [],
   "source": [
    "backtest = backtest.drop(['date','f_buy_m'],axis=1)\n",
    "backtest3 = pd.concat([backtest, backtest2],axis=1).iloc[:-1,:].fillna(method= 'bfill').dropna().iloc[19:]"
   ]
  },
  {
   "cell_type": "code",
   "execution_count": 35,
   "metadata": {},
   "outputs": [],
   "source": [
    "tmp_close = close.reset_index()\n",
    "tmp_close['ret'] = tmp_close['close'].map(lambda x: np.log(x))\n",
    "tmp_close['ret'] = tmp_close.sort_values(['ticker','date'])['close'].pct_change()\n",
    "tmp_close2 = tmp_close.sort_values(['ticker','date'])\n",
    "tmp_close3 = tmp_close2[tmp_close2['date'] != '2010-01-04']\n",
    "tmp_close4 = tmp_close3[tmp_close3['date'] ==backtest3.index[0]]\n",
    "tmp_close5 = tmp_close4.reset_index()\n",
    "tmp_close6 = tmp_close5.set_index('ticker')"
   ]
  },
  {
   "cell_type": "code",
   "execution_count": 36,
   "metadata": {},
   "outputs": [],
   "source": [
    "arr1 = np.empty((10,))\n",
    "for i in range(len(backtest3.index)) :\n",
    "    tmp_close4 = tmp_close3[tmp_close3['date'] ==backtest3.index[i]]\n",
    "    tmp_close5 = tmp_close4.reset_index()\n",
    "    tmp_close6 = tmp_close5.set_index('ticker')\n",
    "    arr2 = np.array(tmp_close6.loc[backtest3['final_ticker'][i], :]['ret'])\n",
    "    arr1 = np.vstack([arr1, arr2])"
   ]
  },
  {
   "cell_type": "code",
   "execution_count": 37,
   "metadata": {},
   "outputs": [],
   "source": [
    "port = pd.DataFrame(arr1).iloc[1:,:]\n",
    "port.index = backtest3.index\n",
    "port_ret = port.sum(axis=1) / port.count(axis=1)\n",
    "\n",
    "index.columns = ['date', 'ticker', 'open', 'high', 'low', 'close', 'adj_close','volume']\n",
    "index = index.set_index('date')\n",
    "index['ret'] = index['close'].pct_change()\n",
    "\n",
    "final = pd.concat([index['ret'][19:-1], port_ret],axis=1)\n",
    "final.columns = ['kospi', 'algo_1']"
   ]
  },
  {
   "cell_type": "markdown",
   "metadata": {},
   "source": [
    "### 10년간 백테스팅"
   ]
  },
  {
   "cell_type": "code",
   "execution_count": 38,
   "metadata": {},
   "outputs": [
    {
     "data": {
      "text/plain": [
       "<matplotlib.axes._subplots.AxesSubplot at 0x23922d55a88>"
      ]
     },
     "execution_count": 38,
     "metadata": {},
     "output_type": "execute_result"
    },
    {
     "data": {
      "image/png": "[encoded data removed]",
      "text/plain": [
       "<Figure size 432x288 with 1 Axes>"
      ]
     },
     "metadata": {},
     "output_type": "display_data"
    }
   ],
   "source": [
    "sns.set_style('dark')\n",
    "final.add(1).cumprod().plot()"
   ]
  },
  {
   "cell_type": "code",
   "execution_count": 39,
   "metadata": {},
   "outputs": [],
   "source": [
    "final.index = pd.to_datetime(final.index)"
   ]
  },
  {
   "cell_type": "markdown",
   "metadata": {},
   "source": [
    "### 3년간 백테스팅"
   ]
  },
  {
   "cell_type": "code",
   "execution_count": 40,
   "metadata": {},
   "outputs": [
    {
     "data": {
      "text/plain": [
       "<matplotlib.axes._subplots.AxesSubplot at 0x2392ecc5908>"
      ]
     },
     "execution_count": 40,
     "metadata": {},
     "output_type": "execute_result"
    },
    {
     "data": {
      "image/png": "[encoded data removed]",
      "text/plain": [
       "<Figure size 432x288 with 1 Axes>"
      ]
     },
     "metadata": {},
     "output_type": "display_data"
    }
   ],
   "source": [
    "final[final.index > '2017-01-01'].add(1).cumprod().plot()"
   ]
  },
  {
   "cell_type": "markdown",
   "metadata": {},
   "source": [
    "### 1년간 백테스팅"
   ]
  },
  {
   "cell_type": "code",
   "execution_count": 41,
   "metadata": {},
   "outputs": [
    {
     "data": {
      "text/plain": [
       "<matplotlib.axes._subplots.AxesSubplot at 0x2393542bbc8>"
      ]
     },
     "execution_count": 41,
     "metadata": {},
     "output_type": "execute_result"
    },
    {
     "data": {
      "image/png": "[encoded data removed]",
      "text/plain": [
       "<Figure size 432x288 with 1 Axes>"
      ]
     },
     "metadata": {},
     "output_type": "display_data"
    }
   ],
   "source": [
    "final[final.index > '2019-01-01'].add(1).cumprod().plot()"
   ]
  },
  {
   "cell_type": "markdown",
   "metadata": {},
   "source": [
    "### 계량 투자전략 포트폴리오 날짜별 수익률"
   ]
  },
  {
   "cell_type": "code",
   "execution_count": 42,
   "metadata": {},
   "outputs": [],
   "source": [
    "port_ret = pd.DataFrame(port_ret)\n",
    "port_ret.columns = ['Return']\n",
    "port_ret['Algo_Name'] = 'Big_LowPER_HighForeign'\n",
    "port_ret2 = port_ret.reset_index()\n",
    "port_ret2['Return'] = port_ret2['Return'].map(lambda x: round(x, 5))\n",
    "port_ret3 = port_ret2[['date','Algo_Name','Return']]\n",
    "port_ret4 = port_ret3.set_index('date')\n",
    "port_ret4['BM_Ret'] = final['kospi']\n",
    "port_ret4['BM_Ret'] = port_ret4['BM_Ret'].map(lambda x: round(x, 5))\n",
    "port_ret4['BM_Ret'] = port_ret4['BM_Ret'].fillna(0)\n",
    "port_ret5 = port_ret4.reset_index()\n",
    "port_ret5['date'] = port_ret5['date'].map(lambda x: str(x)[:10])"
   ]
  },
  {
   "cell_type": "code",
   "execution_count": 43,
   "metadata": {},
   "outputs": [
    {
     "data": {
      "text/html": [
       "<div>\n",
       "<style scoped>\n",
       "    .dataframe tbody tr th:only-of-type {\n",
       "        vertical-align: middle;\n",
       "    }\n",
       "\n",
       "    .dataframe tbody tr th {\n",
       "        vertical-align: top;\n",
       "    }\n",
       "\n",
       "    .dataframe thead th {\n",
       "        text-align: right;\n",
       "    }\n",
       "</style>\n",
       "<table border=\"1\" class=\"dataframe\">\n",
       "  <thead>\n",
       "    <tr style=\"text-align: right;\">\n",
       "      <th></th>\n",
       "      <th>date</th>\n",
       "      <th>Algo_Name</th>\n",
       "      <th>Return</th>\n",
       "      <th>BM_Ret</th>\n",
       "    </tr>\n",
       "  </thead>\n",
       "  <tbody>\n",
       "    <tr>\n",
       "      <th>0</th>\n",
       "      <td>2010-01-29</td>\n",
       "      <td>Big_LowPER_HighForeign</td>\n",
       "      <td>-0.02476</td>\n",
       "      <td>-0.02436</td>\n",
       "    </tr>\n",
       "    <tr>\n",
       "      <th>1</th>\n",
       "      <td>2010-02-01</td>\n",
       "      <td>Big_LowPER_HighForeign</td>\n",
       "      <td>0.00105</td>\n",
       "      <td>0.00250</td>\n",
       "    </tr>\n",
       "    <tr>\n",
       "      <th>2</th>\n",
       "      <td>2010-02-02</td>\n",
       "      <td>Big_LowPER_HighForeign</td>\n",
       "      <td>-0.00179</td>\n",
       "      <td>-0.00623</td>\n",
       "    </tr>\n",
       "    <tr>\n",
       "      <th>3</th>\n",
       "      <td>2010-02-03</td>\n",
       "      <td>Big_LowPER_HighForeign</td>\n",
       "      <td>0.01213</td>\n",
       "      <td>0.01190</td>\n",
       "    </tr>\n",
       "    <tr>\n",
       "      <th>4</th>\n",
       "      <td>2010-02-04</td>\n",
       "      <td>Big_LowPER_HighForeign</td>\n",
       "      <td>0.00895</td>\n",
       "      <td>0.00062</td>\n",
       "    </tr>\n",
       "    <tr>\n",
       "      <th>...</th>\n",
       "      <td>...</td>\n",
       "      <td>...</td>\n",
       "      <td>...</td>\n",
       "      <td>...</td>\n",
       "    </tr>\n",
       "    <tr>\n",
       "      <th>2629</th>\n",
       "      <td>2020-09-23</td>\n",
       "      <td>Big_LowPER_HighForeign</td>\n",
       "      <td>0.00705</td>\n",
       "      <td>0.00000</td>\n",
       "    </tr>\n",
       "    <tr>\n",
       "      <th>2630</th>\n",
       "      <td>2020-09-24</td>\n",
       "      <td>Big_LowPER_HighForeign</td>\n",
       "      <td>-0.02994</td>\n",
       "      <td>-0.02572</td>\n",
       "    </tr>\n",
       "    <tr>\n",
       "      <th>2631</th>\n",
       "      <td>2020-09-25</td>\n",
       "      <td>Big_LowPER_HighForeign</td>\n",
       "      <td>0.01536</td>\n",
       "      <td>0.00264</td>\n",
       "    </tr>\n",
       "    <tr>\n",
       "      <th>2632</th>\n",
       "      <td>2020-09-28</td>\n",
       "      <td>Big_LowPER_HighForeign</td>\n",
       "      <td>0.01180</td>\n",
       "      <td>0.01272</td>\n",
       "    </tr>\n",
       "    <tr>\n",
       "      <th>2633</th>\n",
       "      <td>2020-09-29</td>\n",
       "      <td>Big_LowPER_HighForeign</td>\n",
       "      <td>0.01455</td>\n",
       "      <td>0.00867</td>\n",
       "    </tr>\n",
       "  </tbody>\n",
       "</table>\n",
       "<p>2634 rows × 4 columns</p>\n",
       "</div>"
      ],
      "text/plain": [
       "            date               Algo_Name   Return   BM_Ret\n",
       "0     2010-01-29  Big_LowPER_HighForeign -0.02476 -0.02436\n",
       "1     2010-02-01  Big_LowPER_HighForeign  0.00105  0.00250\n",
       "2     2010-02-02  Big_LowPER_HighForeign -0.00179 -0.00623\n",
       "3     2010-02-03  Big_LowPER_HighForeign  0.01213  0.01190\n",
       "4     2010-02-04  Big_LowPER_HighForeign  0.00895  0.00062\n",
       "...          ...                     ...      ...      ...\n",
       "2629  2020-09-23  Big_LowPER_HighForeign  0.00705  0.00000\n",
       "2630  2020-09-24  Big_LowPER_HighForeign -0.02994 -0.02572\n",
       "2631  2020-09-25  Big_LowPER_HighForeign  0.01536  0.00264\n",
       "2632  2020-09-28  Big_LowPER_HighForeign  0.01180  0.01272\n",
       "2633  2020-09-29  Big_LowPER_HighForeign  0.01455  0.00867\n",
       "\n",
       "[2634 rows x 4 columns]"
      ]
     },
     "execution_count": 43,
     "metadata": {},
     "output_type": "execute_result"
    }
   ],
   "source": [
    "port_ret5"
   ]
  },
  {
   "cell_type": "markdown",
   "metadata": {},
   "source": [
    "### 계량 투자전략 포트폴리오 날짜별 보유 ticker"
   ]
  },
  {
   "cell_type": "code",
   "execution_count": 44,
   "metadata": {},
   "outputs": [],
   "source": [
    "date_ticker = backtest3.reset_index()\n",
    "date_ticker['BM_ticker'] = '^KS11'\n",
    "date_ticker['Algo_Name'] = 'Big_LowPER_HighForeign'\n",
    "\n",
    "date_ticker2 = date_ticker[['date','Algo_Name','final_ticker', 'BM_ticker']]\n",
    "date_ticker2.columns = ['date','Algo_Name', 'Port_Ticker', 'BM_Ticker']\n",
    "date_ticker2['date'] = date_ticker2['date'].map(lambda x: str(x)[:10])\n",
    "date_ticker3 = date_ticker2.reset_index().iloc[:,1:]\n",
    "date_ticker3['Port_Ticker'] = date_ticker3['Port_Ticker'].map(lambda x: str(x)[1:-1])"
   ]
  },
  {
   "cell_type": "code",
   "execution_count": 45,
   "metadata": {},
   "outputs": [
    {
     "data": {
      "text/html": [
       "<div>\n",
       "<style scoped>\n",
       "    .dataframe tbody tr th:only-of-type {\n",
       "        vertical-align: middle;\n",
       "    }\n",
       "\n",
       "    .dataframe tbody tr th {\n",
       "        vertical-align: top;\n",
       "    }\n",
       "\n",
       "    .dataframe thead th {\n",
       "        text-align: right;\n",
       "    }\n",
       "</style>\n",
       "<table border=\"1\" class=\"dataframe\">\n",
       "  <thead>\n",
       "    <tr style=\"text-align: right;\">\n",
       "      <th></th>\n",
       "      <th>date</th>\n",
       "      <th>Algo_Name</th>\n",
       "      <th>Port_Ticker</th>\n",
       "      <th>BM_Ticker</th>\n",
       "    </tr>\n",
       "  </thead>\n",
       "  <tbody>\n",
       "    <tr>\n",
       "      <th>0</th>\n",
       "      <td>2010-01-29</td>\n",
       "      <td>Big_LowPER_HighForeign</td>\n",
       "      <td>'004800', '000070', '016380', '054800', '00766...</td>\n",
       "      <td>^KS11</td>\n",
       "    </tr>\n",
       "    <tr>\n",
       "      <th>1</th>\n",
       "      <td>2010-02-01</td>\n",
       "      <td>Big_LowPER_HighForeign</td>\n",
       "      <td>'004800', '000070', '016380', '054800', '00766...</td>\n",
       "      <td>^KS11</td>\n",
       "    </tr>\n",
       "    <tr>\n",
       "      <th>2</th>\n",
       "      <td>2010-02-02</td>\n",
       "      <td>Big_LowPER_HighForeign</td>\n",
       "      <td>'004800', '000070', '016380', '054800', '00766...</td>\n",
       "      <td>^KS11</td>\n",
       "    </tr>\n",
       "    <tr>\n",
       "      <th>3</th>\n",
       "      <td>2010-02-03</td>\n",
       "      <td>Big_LowPER_HighForeign</td>\n",
       "      <td>'004800', '000070', '016380', '054800', '00766...</td>\n",
       "      <td>^KS11</td>\n",
       "    </tr>\n",
       "    <tr>\n",
       "      <th>4</th>\n",
       "      <td>2010-02-04</td>\n",
       "      <td>Big_LowPER_HighForeign</td>\n",
       "      <td>'004800', '000070', '016380', '054800', '00766...</td>\n",
       "      <td>^KS11</td>\n",
       "    </tr>\n",
       "    <tr>\n",
       "      <th>...</th>\n",
       "      <td>...</td>\n",
       "      <td>...</td>\n",
       "      <td>...</td>\n",
       "      <td>...</td>\n",
       "    </tr>\n",
       "    <tr>\n",
       "      <th>2629</th>\n",
       "      <td>2020-09-23</td>\n",
       "      <td>Big_LowPER_HighForeign</td>\n",
       "      <td>'018670', '000210', '005850', '014830', '00594...</td>\n",
       "      <td>^KS11</td>\n",
       "    </tr>\n",
       "    <tr>\n",
       "      <th>2630</th>\n",
       "      <td>2020-09-24</td>\n",
       "      <td>Big_LowPER_HighForeign</td>\n",
       "      <td>'018670', '000210', '005850', '014830', '00594...</td>\n",
       "      <td>^KS11</td>\n",
       "    </tr>\n",
       "    <tr>\n",
       "      <th>2631</th>\n",
       "      <td>2020-09-25</td>\n",
       "      <td>Big_LowPER_HighForeign</td>\n",
       "      <td>'018670', '000210', '005850', '014830', '00594...</td>\n",
       "      <td>^KS11</td>\n",
       "    </tr>\n",
       "    <tr>\n",
       "      <th>2632</th>\n",
       "      <td>2020-09-28</td>\n",
       "      <td>Big_LowPER_HighForeign</td>\n",
       "      <td>'018670', '000210', '005850', '014830', '00594...</td>\n",
       "      <td>^KS11</td>\n",
       "    </tr>\n",
       "    <tr>\n",
       "      <th>2633</th>\n",
       "      <td>2020-09-29</td>\n",
       "      <td>Big_LowPER_HighForeign</td>\n",
       "      <td>'018670', '000210', '005850', '014830', '00594...</td>\n",
       "      <td>^KS11</td>\n",
       "    </tr>\n",
       "  </tbody>\n",
       "</table>\n",
       "<p>2634 rows × 4 columns</p>\n",
       "</div>"
      ],
      "text/plain": [
       "            date               Algo_Name  \\\n",
       "0     2010-01-29  Big_LowPER_HighForeign   \n",
       "1     2010-02-01  Big_LowPER_HighForeign   \n",
       "2     2010-02-02  Big_LowPER_HighForeign   \n",
       "3     2010-02-03  Big_LowPER_HighForeign   \n",
       "4     2010-02-04  Big_LowPER_HighForeign   \n",
       "...          ...                     ...   \n",
       "2629  2020-09-23  Big_LowPER_HighForeign   \n",
       "2630  2020-09-24  Big_LowPER_HighForeign   \n",
       "2631  2020-09-25  Big_LowPER_HighForeign   \n",
       "2632  2020-09-28  Big_LowPER_HighForeign   \n",
       "2633  2020-09-29  Big_LowPER_HighForeign   \n",
       "\n",
       "                                            Port_Ticker BM_Ticker  \n",
       "0     '004800', '000070', '016380', '054800', '00766...     ^KS11  \n",
       "1     '004800', '000070', '016380', '054800', '00766...     ^KS11  \n",
       "2     '004800', '000070', '016380', '054800', '00766...     ^KS11  \n",
       "3     '004800', '000070', '016380', '054800', '00766...     ^KS11  \n",
       "4     '004800', '000070', '016380', '054800', '00766...     ^KS11  \n",
       "...                                                 ...       ...  \n",
       "2629  '018670', '000210', '005850', '014830', '00594...     ^KS11  \n",
       "2630  '018670', '000210', '005850', '014830', '00594...     ^KS11  \n",
       "2631  '018670', '000210', '005850', '014830', '00594...     ^KS11  \n",
       "2632  '018670', '000210', '005850', '014830', '00594...     ^KS11  \n",
       "2633  '018670', '000210', '005850', '014830', '00594...     ^KS11  \n",
       "\n",
       "[2634 rows x 4 columns]"
      ]
     },
     "execution_count": 45,
     "metadata": {},
     "output_type": "execute_result"
    }
   ],
   "source": [
    "date_ticker3"
   ]
  },
  {
   "cell_type": "markdown",
   "metadata": {},
   "source": [
    "### 계량투자전략 포트폴리오 날짜별 보유 ticker insert"
   ]
  },
  {
   "cell_type": "code",
   "execution_count": 46,
   "metadata": {},
   "outputs": [
    {
     "data": {
      "text/plain": [
       "\"\\nstock_db = pymysql.connect(\\n    user='crawling',\\n    passwd='crawling123!',\\n    host='137.68.155.154', \\n    port=3306,\\n    db='prj', \\n    charset='utf8'\\n    )\\n\""
      ]
     },
     "execution_count": 46,
     "metadata": {},
     "output_type": "execute_result"
    }
   ],
   "source": [
    "\"\"\"\n",
    "stock_db = pymysql.connect(\n",
    "    user='crawling',\n",
    "    passwd='crawling123!',\n",
    "    host='137.68.155.154', \n",
    "    port=3306,\n",
    "    db='prj', \n",
    "    charset='utf8'\n",
    "    )\n",
    "\"\"\""
   ]
  },
  {
   "cell_type": "code",
   "execution_count": 47,
   "metadata": {},
   "outputs": [
    {
     "data": {
      "text/plain": [
       "'\\ndef insert(df) :\\n    insert_list = np.vstack(np.array(df)).tolist()\\n    val = insert_list\\n\\n    cur = stock_db.cursor()\\n    cur.executemany(sql, val)\\n    stock_db.commit()\\n\\n    result = cur.fetchall()\\n    return(result)\\n'"
      ]
     },
     "execution_count": 47,
     "metadata": {},
     "output_type": "execute_result"
    }
   ],
   "source": [
    "\"\"\"\n",
    "def insert(df) :\n",
    "    insert_list = np.vstack(np.array(df)).tolist()\n",
    "    val = insert_list\n",
    "\n",
    "    cur = stock_db.cursor()\n",
    "    cur.executemany(sql, val)\n",
    "    stock_db.commit()\n",
    "\n",
    "    result = cur.fetchall()\n",
    "    return(result)\n",
    "\"\"\""
   ]
  },
  {
   "cell_type": "code",
   "execution_count": 49,
   "metadata": {},
   "outputs": [
    {
     "data": {
      "text/plain": [
       "'\\nsql = \"INSERT INTO tb_port_info(Date, Algo_Name, Port_Ticker, BM_Ticker) VALUES(%s, %s, %s, %s)\" \\ninsert(date_ticker3)\\n'"
      ]
     },
     "execution_count": 49,
     "metadata": {},
     "output_type": "execute_result"
    }
   ],
   "source": [
    "\"\"\"\n",
    "sql = \"INSERT INTO tb_port_info(Date, Algo_Name, Port_Ticker, BM_Ticker) VALUES(%s, %s, %s, %s)\" \n",
    "insert(date_ticker3)\n",
    "\"\"\""
   ]
  },
  {
   "cell_type": "markdown",
   "metadata": {},
   "source": [
    "### 계량투자전략 포트폴리오 날짜별 수익률 insert"
   ]
  },
  {
   "cell_type": "code",
   "execution_count": 48,
   "metadata": {},
   "outputs": [
    {
     "data": {
      "text/plain": [
       "'\\nsql = \"INSERT INTO tb_port_ret(Date, Algo_Name, Return_, BM_ret) VALUES( %s, %s, %s, %s)\" \\ninsert(port_ret5)\\n'"
      ]
     },
     "execution_count": 48,
     "metadata": {},
     "output_type": "execute_result"
    }
   ],
   "source": [
    "\"\"\"\n",
    "sql = \"INSERT INTO tb_port_ret(Date, Algo_Name, Return_, BM_ret) VALUES( %s, %s, %s, %s)\" \n",
    "insert(port_ret5)\n",
    "\"\"\""
   ]
  },
  {
   "cell_type": "markdown",
   "metadata": {},
   "source": [
    "### 날짜별 포트폴리오 종목명 확인"
   ]
  },
  {
   "cell_type": "code",
   "execution_count": 50,
   "metadata": {},
   "outputs": [],
   "source": [
    "sql = \"\"\"\n",
    "select Ticker, Name\n",
    "from tb_info\n",
    "where class = 0\n",
    "\"\"\"\n",
    "cur = stock_db.cursor()\n",
    "cur.execute(sql)\n",
    "stock_db.commit()\n",
    "\n",
    "result = cur.fetchall()"
   ]
  },
  {
   "cell_type": "code",
   "execution_count": 51,
   "metadata": {},
   "outputs": [],
   "source": [
    "stk_info = pd.DataFrame(result)"
   ]
  },
  {
   "cell_type": "code",
   "execution_count": 52,
   "metadata": {},
   "outputs": [],
   "source": [
    "stk_info.columns = ['ticker', 'ticker_name']"
   ]
  },
  {
   "cell_type": "code",
   "execution_count": 53,
   "metadata": {},
   "outputs": [],
   "source": [
    "sql = \"\"\"\n",
    "select Date, Port_Ticker\n",
    "from tb_port_info\n",
    "where Algo_Name = 'Big_LowPER_HighForeign';\n",
    "\"\"\"\n",
    "cur = stock_db.cursor()\n",
    "cur.execute(sql)\n",
    "stock_db.commit()\n",
    "\n",
    "result = cur.fetchall()"
   ]
  },
  {
   "cell_type": "code",
   "execution_count": 54,
   "metadata": {},
   "outputs": [],
   "source": [
    "port_ticker = pd.DataFrame(result)\n",
    "port_ticker.columns = ['date', 'port_ticker']\n",
    "\n",
    "port_ticker['port_ticker'] = pd.Series(port_ticker['port_ticker']).map(lambda x: str(x).replace('\"', ''))\n",
    "port_ticker['port_ticker'] = port_ticker['port_ticker'].map(lambda x: str(x).replace(\"'\", ''))\n",
    "port_ticker['port_ticker'] = port_ticker['port_ticker'].map(lambda x: str(x).strip())\n",
    "port_ticker['port_ticker'] = port_ticker['port_ticker'].map(lambda x: x.split(', '))\n",
    "\n",
    "stk_info.index = stk_info.ticker\n",
    "arr_1 = np.empty(10,)"
   ]
  },
  {
   "cell_type": "code",
   "execution_count": 55,
   "metadata": {},
   "outputs": [],
   "source": [
    "for i in range(len(port_ticker.date)) :\n",
    "    arr_2 = np.array(stk_info.loc[port_ticker['port_ticker'][i], :]['ticker_name'])\n",
    "    arr_1 = np.vstack([arr_1, arr_2])"
   ]
  },
  {
   "cell_type": "code",
   "execution_count": 56,
   "metadata": {},
   "outputs": [],
   "source": [
    "port_ticker['ticker_name'] = arr_1[1:].tolist()"
   ]
  },
  {
   "cell_type": "code",
   "execution_count": 57,
   "metadata": {},
   "outputs": [
    {
     "data": {
      "text/html": [
       "<div>\n",
       "<style scoped>\n",
       "    .dataframe tbody tr th:only-of-type {\n",
       "        vertical-align: middle;\n",
       "    }\n",
       "\n",
       "    .dataframe tbody tr th {\n",
       "        vertical-align: top;\n",
       "    }\n",
       "\n",
       "    .dataframe thead th {\n",
       "        text-align: right;\n",
       "    }\n",
       "</style>\n",
       "<table border=\"1\" class=\"dataframe\">\n",
       "  <thead>\n",
       "    <tr style=\"text-align: right;\">\n",
       "      <th></th>\n",
       "      <th>date</th>\n",
       "      <th>port_ticker</th>\n",
       "      <th>ticker_name</th>\n",
       "    </tr>\n",
       "  </thead>\n",
       "  <tbody>\n",
       "    <tr>\n",
       "      <th>0</th>\n",
       "      <td>2010-01-29</td>\n",
       "      <td>[004800, 000070, 016380, 054800, 007660, 03683...</td>\n",
       "      <td>[효성, 삼양홀딩스, KG동부제철, 아이디스홀딩스, 이수페타시스, 솔브레인홀딩스, ...</td>\n",
       "    </tr>\n",
       "    <tr>\n",
       "      <th>1</th>\n",
       "      <td>2010-02-01</td>\n",
       "      <td>[004800, 000070, 016380, 054800, 007660, 03683...</td>\n",
       "      <td>[효성, 삼양홀딩스, KG동부제철, 아이디스홀딩스, 이수페타시스, 솔브레인홀딩스, ...</td>\n",
       "    </tr>\n",
       "    <tr>\n",
       "      <th>2</th>\n",
       "      <td>2010-02-02</td>\n",
       "      <td>[004800, 000070, 016380, 054800, 007660, 03683...</td>\n",
       "      <td>[효성, 삼양홀딩스, KG동부제철, 아이디스홀딩스, 이수페타시스, 솔브레인홀딩스, ...</td>\n",
       "    </tr>\n",
       "    <tr>\n",
       "      <th>3</th>\n",
       "      <td>2010-02-03</td>\n",
       "      <td>[004800, 000070, 016380, 054800, 007660, 03683...</td>\n",
       "      <td>[효성, 삼양홀딩스, KG동부제철, 아이디스홀딩스, 이수페타시스, 솔브레인홀딩스, ...</td>\n",
       "    </tr>\n",
       "    <tr>\n",
       "      <th>4</th>\n",
       "      <td>2010-02-04</td>\n",
       "      <td>[004800, 000070, 016380, 054800, 007660, 03683...</td>\n",
       "      <td>[효성, 삼양홀딩스, KG동부제철, 아이디스홀딩스, 이수페타시스, 솔브레인홀딩스, ...</td>\n",
       "    </tr>\n",
       "    <tr>\n",
       "      <th>...</th>\n",
       "      <td>...</td>\n",
       "      <td>...</td>\n",
       "      <td>...</td>\n",
       "    </tr>\n",
       "    <tr>\n",
       "      <th>2629</th>\n",
       "      <td>2020-09-23</td>\n",
       "      <td>[018670, 000210, 005850, 014830, 005940, 09305...</td>\n",
       "      <td>[SK가스, 대림산업, 에스엘, 유니드, NH투자증권, LF, KPX케미칼, 대상홀...</td>\n",
       "    </tr>\n",
       "    <tr>\n",
       "      <th>2630</th>\n",
       "      <td>2020-09-24</td>\n",
       "      <td>[018670, 000210, 005850, 014830, 005940, 09305...</td>\n",
       "      <td>[SK가스, 대림산업, 에스엘, 유니드, NH투자증권, LF, KPX케미칼, 대상홀...</td>\n",
       "    </tr>\n",
       "    <tr>\n",
       "      <th>2631</th>\n",
       "      <td>2020-09-25</td>\n",
       "      <td>[018670, 000210, 005850, 014830, 005940, 09305...</td>\n",
       "      <td>[SK가스, 대림산업, 에스엘, 유니드, NH투자증권, LF, KPX케미칼, 대상홀...</td>\n",
       "    </tr>\n",
       "    <tr>\n",
       "      <th>2632</th>\n",
       "      <td>2020-09-28</td>\n",
       "      <td>[018670, 000210, 005850, 014830, 005940, 09305...</td>\n",
       "      <td>[SK가스, 대림산업, 에스엘, 유니드, NH투자증권, LF, KPX케미칼, 대상홀...</td>\n",
       "    </tr>\n",
       "    <tr>\n",
       "      <th>2633</th>\n",
       "      <td>2020-09-29</td>\n",
       "      <td>[018670, 000210, 005850, 014830, 005940, 09305...</td>\n",
       "      <td>[SK가스, 대림산업, 에스엘, 유니드, NH투자증권, LF, KPX케미칼, 대상홀...</td>\n",
       "    </tr>\n",
       "  </tbody>\n",
       "</table>\n",
       "<p>2634 rows × 3 columns</p>\n",
       "</div>"
      ],
      "text/plain": [
       "            date                                        port_ticker  \\\n",
       "0     2010-01-29  [004800, 000070, 016380, 054800, 007660, 03683...   \n",
       "1     2010-02-01  [004800, 000070, 016380, 054800, 007660, 03683...   \n",
       "2     2010-02-02  [004800, 000070, 016380, 054800, 007660, 03683...   \n",
       "3     2010-02-03  [004800, 000070, 016380, 054800, 007660, 03683...   \n",
       "4     2010-02-04  [004800, 000070, 016380, 054800, 007660, 03683...   \n",
       "...          ...                                                ...   \n",
       "2629  2020-09-23  [018670, 000210, 005850, 014830, 005940, 09305...   \n",
       "2630  2020-09-24  [018670, 000210, 005850, 014830, 005940, 09305...   \n",
       "2631  2020-09-25  [018670, 000210, 005850, 014830, 005940, 09305...   \n",
       "2632  2020-09-28  [018670, 000210, 005850, 014830, 005940, 09305...   \n",
       "2633  2020-09-29  [018670, 000210, 005850, 014830, 005940, 09305...   \n",
       "\n",
       "                                            ticker_name  \n",
       "0     [효성, 삼양홀딩스, KG동부제철, 아이디스홀딩스, 이수페타시스, 솔브레인홀딩스, ...  \n",
       "1     [효성, 삼양홀딩스, KG동부제철, 아이디스홀딩스, 이수페타시스, 솔브레인홀딩스, ...  \n",
       "2     [효성, 삼양홀딩스, KG동부제철, 아이디스홀딩스, 이수페타시스, 솔브레인홀딩스, ...  \n",
       "3     [효성, 삼양홀딩스, KG동부제철, 아이디스홀딩스, 이수페타시스, 솔브레인홀딩스, ...  \n",
       "4     [효성, 삼양홀딩스, KG동부제철, 아이디스홀딩스, 이수페타시스, 솔브레인홀딩스, ...  \n",
       "...                                                 ...  \n",
       "2629  [SK가스, 대림산업, 에스엘, 유니드, NH투자증권, LF, KPX케미칼, 대상홀...  \n",
       "2630  [SK가스, 대림산업, 에스엘, 유니드, NH투자증권, LF, KPX케미칼, 대상홀...  \n",
       "2631  [SK가스, 대림산업, 에스엘, 유니드, NH투자증권, LF, KPX케미칼, 대상홀...  \n",
       "2632  [SK가스, 대림산업, 에스엘, 유니드, NH투자증권, LF, KPX케미칼, 대상홀...  \n",
       "2633  [SK가스, 대림산업, 에스엘, 유니드, NH투자증권, LF, KPX케미칼, 대상홀...  \n",
       "\n",
       "[2634 rows x 3 columns]"
      ]
     },
     "execution_count": 57,
     "metadata": {},
     "output_type": "execute_result"
    }
   ],
   "source": [
    "port_ticker"
   ]
  },
  {
   "cell_type": "code",
   "execution_count": null,
   "metadata": {},
   "outputs": [],
   "source": []
  }
 ],
 "metadata": {
  "kernelspec": {
   "display_name": "Python 3",
   "language": "python",
   "name": "python3"
  },
  "language_info": {
   "codemirror_mode": {
    "name": "ipython",
    "version": 3
   },
   "file_extension": ".py",
   "mimetype": "text/x-python",
   "name": "python",
   "nbconvert_exporter": "python",
   "pygments_lexer": "ipython3",
   "version": "3.7.7"
  }
 },
 "nbformat": 4,
 "nbformat_minor": 4
}

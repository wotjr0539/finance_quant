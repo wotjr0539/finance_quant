{
 "cells": [
  {
   "cell_type": "markdown",
   "metadata": {},
   "source": [
    "### 함수정리"
   ]
  },
  {
   "cell_type": "code",
   "execution_count": 1,
   "metadata": {
    "ExecuteTime": {
     "end_time": "2020-12-28T10:53:57.261595Z",
     "start_time": "2020-12-28T10:53:57.213725Z"
    }
   },
   "outputs": [],
   "source": [
    "def to_datetime(timestamp) :\n",
    "    return datetime.fromtimestamp(timestamp/1000)\n",
    "\n",
    "def to_timestamp(date) :\n",
    "    tmp = datetime.strptime(date, '%Y-%m-%d')\n",
    "    return int((str(time.mktime(tmp.timetuple()))[:-2] + '000'))\n",
    "\n",
    "def crawle_data(symbol, crawl_start_date) :\n",
    "    \n",
    "    try : \n",
    "        starting = time.time()\n",
    "\n",
    "        ep='https://api.binance.com'\n",
    "        candle = '/api/v3/klines'\n",
    "\n",
    "        start_date = []\n",
    "        start_time = []\n",
    "        openn = []\n",
    "        high = []\n",
    "        low = []\n",
    "        close = []\n",
    "        volume = []\n",
    "\n",
    "        start = to_timestamp(crawl_start_date)\n",
    "        first_params_candle = {'symbol': symbol, 'interval' : '1m','startTime' : start , 'limit' : 1 } # 초기세팅\n",
    "        r1 = requests.get(ep+candle, params=first_params_candle )\n",
    "\n",
    "        while len(r1.json()) > 0 :\n",
    "            first_params_candle = {'symbol': symbol, 'interval' : '1m','startTime' : start , 'limit' : 1000 }\n",
    "            r1 = requests.get(ep+candle, params=first_params_candle ) #use parameter\n",
    "            req = r1.json()\n",
    "            for i in range(0,len(req)) : \n",
    "                start_date.append(datetime.fromtimestamp(req[i][0]/1000).strftime('%Y%m%d'))\n",
    "                start_time.append(datetime.fromtimestamp(req[i][0]/1000).strftime('%H%M'))\n",
    "                close.append(req[i][4])\n",
    "            if len(req) > 0 : # 받아온 데이터가 있을 경우 => 다음 루프 시작\n",
    "                start = req[-1][6]+1\n",
    "            else : print(symbol + \" 다운로드 완료\")\n",
    "            #time.sleep(0.25) # 횟수제한을 위해 추가\n",
    "\n",
    "        ticker = [symbol] * len(start_date)\n",
    "\n",
    "        chartData = {'date': start_date, 'time': start_time, 'ticker': ticker, 'close': close}\n",
    "\n",
    "        df = pd.DataFrame(chartData, columns=['date', 'time', 'ticker', 'close'])\n",
    "        df2 = df[['date', 'time', 'close']]\n",
    "        df2.columns = ['date', 'time', symbol]\n",
    "\n",
    "        print(\"소요 시간 : \", time.time() - starting)\n",
    "        \n",
    "        return df2\n",
    "    \n",
    "    # 데이터 안불러 와지는 경우 keyerror가 나므로 예외처리함\n",
    "    except KeyError as e :\n",
    "        print(e)"
   ]
  },
  {
   "cell_type": "code",
   "execution_count": 2,
   "metadata": {
    "ExecuteTime": {
     "end_time": "2020-12-28T10:53:57.292586Z",
     "start_time": "2020-12-28T10:53:57.267653Z"
    }
   },
   "outputs": [],
   "source": [
    "def update_crawl(symbol, crawl_start_date) :\n",
    "    \n",
    "    try : \n",
    "        starting = time.time()\n",
    "\n",
    "        ep='https://api.binance.com'\n",
    "        candle = '/api/v3/klines'\n",
    "\n",
    "        start_date = []\n",
    "        start_time = []\n",
    "        openn = []\n",
    "        high = []\n",
    "        low = []\n",
    "        close = []\n",
    "        volume = []\n",
    "        #future_close.index[-1].timestamp() * 1000\n",
    "        #int(str(future_close.index[-1].timestamp() * 1000)[:-2])\n",
    "        #math.floor(time.mktime(future_close.index[-1].timetuple()) * 1000)\n",
    "        start = math.floor(time.mktime(crawl_start_date.timetuple()) * 1000)\n",
    "        first_params_candle = {'symbol': symbol, 'interval' : '1m','startTime' : start , 'limit' : 1 } # 초기세팅\n",
    "        r1 = requests.get(ep+candle, params=first_params_candle )\n",
    "\n",
    "        while len(r1.json()) > 0 :\n",
    "            first_params_candle = {'symbol': symbol, 'interval' : '1m','startTime' : start , 'limit' : 1000 }\n",
    "            r1 = requests.get(ep+candle, params=first_params_candle ) #use parameter\n",
    "            req = r1.json()\n",
    "            for i in range(0,len(req)) : \n",
    "                start_date.append(datetime.fromtimestamp(req[i][0]/1000).strftime('%Y%m%d'))\n",
    "                start_time.append(datetime.fromtimestamp(req[i][0]/1000).strftime('%H%M'))\n",
    "                close.append(req[i][4])\n",
    "            if len(req) > 0 : # 받아온 데이터가 있을 경우 => 다음 루프 시작\n",
    "                start = req[-1][6]+1\n",
    "            else : print(symbol + \" 다운로드 완료\")\n",
    "            #time.sleep(0.25) # 횟수제한을 위해 추가\n",
    "\n",
    "        ticker = [symbol] * len(start_date)\n",
    "\n",
    "        chartData = {'date': start_date, 'time': start_time, 'ticker': ticker, 'close': close}\n",
    "\n",
    "        df = pd.DataFrame(chartData, columns=['date', 'time', 'ticker', 'close'])\n",
    "        df2 = df[['date', 'time', 'close']]\n",
    "        df2.columns = ['date', 'time', symbol]\n",
    "\n",
    "        print(\"소요 시간 : \", time.time() - starting)\n",
    "        \n",
    "        return df2\n",
    "    \n",
    "    # 데이터 안불러 와지는 경우 keyerror가 나므로 예외처리함\n",
    "    except KeyError as e :\n",
    "        print(e)"
   ]
  },
  {
   "cell_type": "code",
   "execution_count": 3,
   "metadata": {
    "ExecuteTime": {
     "end_time": "2020-12-28T10:53:57.306550Z",
     "start_time": "2020-12-28T10:53:57.297573Z"
    }
   },
   "outputs": [],
   "source": [
    "def cal_corr_num(corr_df, corr_list) :\n",
    "    corr_num = []\n",
    "    for corr in corr_list :\n",
    "        tmp = []\n",
    "        for i in range(len(corr_df.index)) :    \n",
    "            tmp.append(len(corr_df.index[(corr_df.iloc[:, i] > corr)]))\n",
    "        corr_num.append(sum(tmp))\n",
    "    return corr_num"
   ]
  },
  {
   "cell_type": "code",
   "execution_count": 4,
   "metadata": {
    "ExecuteTime": {
     "end_time": "2020-12-28T10:53:57.323503Z",
     "start_time": "2020-12-28T10:53:57.312533Z"
    }
   },
   "outputs": [],
   "source": [
    "def cal_corr_name(corr_df) :\n",
    "    corr_name = corr_df.stack().reset_index()\n",
    "    corr_name = corr_name[corr_name[0] > 0.9]\n",
    "    corr_name['name'] = corr_name['level_0'] + '-' + corr_name['level_1']\n",
    "    corr_name.columns = ['pair_1', 'pair_2', 'corr', 'pair']\n",
    "    corr_name.sort_values('corr', ascending = False, inplace = True)\n",
    "    corr_name = corr_name.reset_index()\n",
    "    corr_name = corr_name.iloc[:,1:]\n",
    "    return corr_name"
   ]
  },
  {
   "cell_type": "code",
   "execution_count": 5,
   "metadata": {
    "ExecuteTime": {
     "end_time": "2020-12-28T10:53:57.338463Z",
     "start_time": "2020-12-28T10:53:57.326495Z"
    }
   },
   "outputs": [],
   "source": [
    "def calcul_alpha_beta(x, y) :\n",
    "    ols_result = sm.OLS(y, x).fit()\n",
    "    beta = ols_result.params.tolist()[0]\n",
    "    return beta"
   ]
  },
  {
   "cell_type": "code",
   "execution_count": 6,
   "metadata": {
    "ExecuteTime": {
     "end_time": "2020-12-28T10:53:57.361403Z",
     "start_time": "2020-12-28T10:53:57.343451Z"
    }
   },
   "outputs": [],
   "source": [
    "def cal_gamma_pvalue(x, y) :\n",
    "    beta = calcul_alpha_beta(x, y)\n",
    "    residual = y - beta * x\n",
    "    z_residual = stats.zscore(residual)\n",
    "\n",
    "    y2 = residual.diff().shift(-1)[:-1]\n",
    "    x2 = residual[:-1]\n",
    "    gamma = calcul_alpha_beta(x2, y2)\n",
    "    adf_result = adfuller(residual)\n",
    "    p_value = adf_result[1]\n",
    "    \n",
    "    return (gamma, p_value, residual, beta)"
   ]
  },
  {
   "cell_type": "code",
   "execution_count": 7,
   "metadata": {
    "ExecuteTime": {
     "end_time": "2020-12-28T10:53:57.376436Z",
     "start_time": "2020-12-28T10:53:57.364393Z"
    }
   },
   "outputs": [],
   "source": [
    "def cal_g_p_list(corr_name_df, formation_log, option) :\n",
    "    option_list = []\n",
    "    for i in range(len(corr_name_df)) : \n",
    "        pair_1_name = corr_name_df['pair_1'][i]\n",
    "        pair_2_name = corr_name_df['pair_2'][i]\n",
    "        \n",
    "        y = formation_log[pair_1_name]\n",
    "        x = formation_log[pair_2_name]\n",
    "        \n",
    "        if option == 'gamma' :\n",
    "            option_list.append(cal_gamma_pvalue(x,y)[0])\n",
    "        if option == 'pvalue' :\n",
    "            option_list.append(cal_gamma_pvalue(x,y)[1])\n",
    "    return option_list"
   ]
  },
  {
   "cell_type": "code",
   "execution_count": 8,
   "metadata": {
    "ExecuteTime": {
     "end_time": "2020-12-28T10:53:57.388403Z",
     "start_time": "2020-12-28T10:53:57.379429Z"
    }
   },
   "outputs": [],
   "source": [
    "def get_corr_upper(df) : \n",
    "    corr = df.corr()\n",
    "    future_list = df.columns.tolist()\n",
    "\n",
    "    # 상부삼각행렬만 남김\n",
    "    corr_upper = np.triu(corr)\n",
    "\n",
    "    # 대각행렬 0으로 바꿈\n",
    "    corr_upper[np.diag_indices_from(corr_upper)] = 0\n",
    "\n",
    "    corr_upper_0 = pd.DataFrame(corr_upper)\n",
    "    corr_upper_0.columns = future_list\n",
    "    corr_upper_0.index = future_list\n",
    "    return corr_upper_0"
   ]
  },
  {
   "cell_type": "code",
   "execution_count": 9,
   "metadata": {
    "ExecuteTime": {
     "end_time": "2020-12-28T10:53:57.410347Z",
     "start_time": "2020-12-28T10:53:57.394389Z"
    }
   },
   "outputs": [],
   "source": [
    "def get_low_p_pair(pair_num, resample, start, end) :\n",
    "    formation_data = future_close.resample('{}T'.format(resample)).last()[start:end].dropna(how='all')\n",
    "    formation_log = formation_data.applymap(lambda x: np.log(x))\n",
    "\n",
    "    corr_upper_0 = get_corr_upper(formation_data)\n",
    "\n",
    "    # correlation별 pair 갯수\n",
    "    corr_list = [0.99, 0.98, 0.97, 0.96, 0.95, 0.94, 0.93, 0.92, 0.91, 0.9]\n",
    "    cal_corr_num(corr_upper_0, corr_list)\n",
    "    corr_name_df = cal_corr_name(corr_upper_0)\n",
    "    pair_pvalue_gamma = corr_name_df.copy()\n",
    "    pair_pvalue_gamma['p'] = cal_g_p_list(corr_name_df, formation_log, 'pvalue')\n",
    "    pair_pvalue_gamma['gamma'] = cal_g_p_list(corr_name_df, formation_log, 'gamma')\n",
    "    pair_pvalue_gamma['abs_gamma'] = pair_pvalue_gamma['gamma'].map(lambda x : abs(x))\n",
    "    pair_pvalue_gamma['h_mean'] = pair_pvalue_gamma[['p','abs_gamma']].apply(stats.hmean, axis =1)\n",
    "    \n",
    "    print(pair_pvalue_gamma.sort_values(by = 'p').head(10))\n",
    "    \n",
    "    pair_p = pair_pvalue_gamma.sort_values(by = 'p')\n",
    "    pair_p.reset_index(inplace = True)\n",
    "    pair_p = pair_p.iloc[:,1:]\n",
    "\n",
    "    selected_pair = pair_p['pair'][:pair_num].tolist()\n",
    "    \n",
    "    return selected_pair"
   ]
  },
  {
   "cell_type": "code",
   "execution_count": 10,
   "metadata": {
    "ExecuteTime": {
     "end_time": "2020-12-28T10:53:57.448245Z",
     "start_time": "2020-12-28T10:53:57.414334Z"
    }
   },
   "outputs": [],
   "source": [
    "def get_signal(future_close, start_date, median_date, end_date, pair_1, pair_2) :\n",
    "    all_date = future_close[start_date:end_date].resample('1d').last().index.tolist()\n",
    "    all_date = list(map(lambda x : datetime.strftime(x, '%Y-%m-%d %H:%M:%S')[:10], all_date))\n",
    "\n",
    "    tmp_date = future_close[median_date:end_date].resample('1d').last().index.tolist()\n",
    "    tmp_date = list(map(lambda x : datetime.strftime(x, '%Y-%m-%d %H:%M:%S')[:10], tmp_date))\n",
    "\n",
    "    all_log = future_log[pair_1][start_date:end_date].resample('5T').last().dropna()\n",
    "    all_log2 = future_log[pair_2][start_date:end_date].resample('5T').last().dropna()\n",
    "\n",
    "    mean_list = []\n",
    "    std_list = [] \n",
    "\n",
    "    tmp_log = future_log[pair_1][median_date:end_date].resample('5T').last().dropna()\n",
    "    tmp_log2 = future_log[pair_2][median_date:end_date].resample('5T').last().dropna()\n",
    "\n",
    "    beta = calcul_alpha_beta(tmp_log, tmp_log2)\n",
    "    \n",
    "    # residual 7일 구하기\n",
    "    residual_all = all_log - beta * all_log2 \n",
    "\n",
    "    # residual 당일 구하기\n",
    "    pair_1_close = future_log[pair_1][t_date]\n",
    "    pair_2_close = future_log[pair_2][t_date]\n",
    "    residual_today = pair_1_close - beta * pair_2_close\n",
    "\n",
    "    # residual 3일 구하기\n",
    "    residual_insample = pd.Series()\n",
    "    for date in tmp_date :\n",
    "        pair_1_close = future_log[pair_1][date].resample('5T').last()\n",
    "        pair_2_close = future_log[pair_2][date].resample('5T').last()\n",
    "\n",
    "        residual =  pair_1_close - beta * pair_2_close\n",
    "        residual_insample = pd.concat([residual_insample, residual])\n",
    "\n",
    "        mean_list.append(residual.mean())\n",
    "        std_list.append(residual.std(ddof=1))\n",
    "\n",
    "    # 3일간의 resdiual daily 평균, 표준편차를 z-score 만드는 데 활용\n",
    "    mean_ave = sum(mean_list) / len(mean_list)\n",
    "    std_ave  = sum(std_list)  / len(std_list)\n",
    "\n",
    "    all_sample_zscore = (residual_all - mean_ave)      / std_ave\n",
    "    in_sample_zscore =  (residual_insample - mean_ave) / std_ave\n",
    "    out_sample_zscore = (residual_today - mean_ave)    / std_ave\n",
    "\n",
    "    # 당일 signal\n",
    "    signal_df = pd.DataFrame()\n",
    "    signal_df['signal'] = out_sample_zscore\n",
    "    signal_df['+open'] = 2\n",
    "    signal_df['-open'] = -2\n",
    "    signal_df['+close'] = 0.3\n",
    "    signal_df['-close'] = -0.3\n",
    "    signal_df['Date'] = out_sample_zscore.index.tolist()\n",
    "    signal_df.set_index('Date', inplace =True)\n",
    "    \n",
    "    # 3일전부터의 signal\n",
    "    in_sample_signal_df = pd.DataFrame()\n",
    "    in_sample_signal_df['signal'] = pd.concat([in_sample_zscore, out_sample_zscore]).tolist()\n",
    "    in_sample_signal_df['+open'] = 2\n",
    "    in_sample_signal_df['-open'] = -2\n",
    "    in_sample_signal_df['+close'] = 0.3\n",
    "    in_sample_signal_df['-close'] = -0.3\n",
    "    in_sample_signal_df['Date'] = pd.concat([in_sample_zscore, out_sample_zscore]).index.tolist()\n",
    "    in_sample_signal_df.set_index('Date', inplace =True)\n",
    "\n",
    "    # 7일전부터의 signal\n",
    "    all_sample_signal_df = pd.DataFrame()\n",
    "    all_sample_signal_df['signal'] = pd.concat([all_sample_zscore, out_sample_zscore]).tolist()\n",
    "    all_sample_signal_df['+open'] = 2\n",
    "    all_sample_signal_df['-open'] = -2\n",
    "    all_sample_signal_df['+close'] = 0.3\n",
    "    all_sample_signal_df['-close'] = -0.3\n",
    "    all_sample_signal_df['Date'] = pd.concat([all_sample_zscore, out_sample_zscore]).index.tolist()\n",
    "    all_sample_signal_df.set_index('Date', inplace =True)\n",
    "    \n",
    "    return beta, signal_df, in_sample_signal_df, all_sample_signal_df"
   ]
  },
  {
   "cell_type": "markdown",
   "metadata": {},
   "source": [
    "### 모듈 import"
   ]
  },
  {
   "cell_type": "code",
   "execution_count": 11,
   "metadata": {
    "ExecuteTime": {
     "end_time": "2020-12-28T10:54:18.457437Z",
     "start_time": "2020-12-28T10:53:57.453233Z"
    }
   },
   "outputs": [],
   "source": [
    "import requests\n",
    "from datetime import datetime\n",
    "from datetime import timedelta\n",
    "import pandas as pd\n",
    "import time\n",
    "import ccxt\n",
    "import numpy as np\n",
    "import seaborn as sns\n",
    "import statsmodels.api as sm\n",
    "from scipy import stats\n",
    "from datetime import datetime\n",
    "import pandas as pd\n",
    "import time\n",
    "import numpy as np\n",
    "import seaborn as sns\n",
    "import statsmodels.api as sm\n",
    "from scipy import stats\n",
    "from statsmodels.tsa.stattools import adfuller\n",
    "from arch.unitroot import ADF\n",
    "import matplotlib.pyplot as plt\n",
    "import math"
   ]
  },
  {
   "cell_type": "markdown",
   "metadata": {},
   "source": [
    "### 페어 선택을 위한 데이터 크롤링"
   ]
  },
  {
   "cell_type": "code",
   "execution_count": 12,
   "metadata": {
    "ExecuteTime": {
     "end_time": "2020-12-28T10:54:20.653443Z",
     "start_time": "2020-12-28T10:54:18.460430Z"
    }
   },
   "outputs": [],
   "source": [
    "future_close = pd.read_csv('future_price_20201216_23.csv')\n",
    "# 데이터 전처리\n",
    "future_close['Date'] = future_close['Date'].map(lambda x : datetime.strptime(x, '%Y-%m-%d %H:%M:%S'))\n",
    "future_close.set_index('Date', inplace = True)\n",
    "future_log = future_close.applymap(lambda x : np.log(x))"
   ]
  },
  {
   "cell_type": "code",
   "execution_count": 13,
   "metadata": {
    "ExecuteTime": {
     "end_time": "2020-12-28T10:54:20.868878Z",
     "start_time": "2020-12-28T10:54:20.656436Z"
    }
   },
   "outputs": [],
   "source": [
    "symbol = pd.read_excel('usdt_futures_symbol.xlsx')\n",
    "symbol_list = symbol['EOSUSDT'].tolist()\n",
    "symbol_list.append('EOSUSDT')\n",
    "\n",
    "symbol_list2 = symbol_list.copy()\n",
    "symbol_list2.remove('ETCUSDT')"
   ]
  },
  {
   "cell_type": "markdown",
   "metadata": {
    "ExecuteTime": {
     "end_time": "2020-12-23T10:34:46.942971Z",
     "start_time": "2020-12-23T10:34:44.227233Z"
    }
   },
   "source": [
    "first_future = crawle_data('ETCUSDT', '2020-12-16')\n",
    "first_future = first_future.set_index('date')"
   ]
  },
  {
   "cell_type": "markdown",
   "metadata": {
    "ExecuteTime": {
     "end_time": "2020-12-23T10:38:02.227361Z",
     "start_time": "2020-12-23T10:34:46.949252Z"
    },
    "scrolled": true
   },
   "source": [
    "for symbol in symbol_list2 : \n",
    "    \n",
    "    try : \n",
    "        tmp = crawle_data(symbol, '2020-12-16')\n",
    "        first_future[symbol] = tmp.iloc[:len(first_future), 2].tolist()\n",
    "    \n",
    "    # 데이터 없을 경우 tmp가 none type이 되므로 attributeerror가 나게 됨\n",
    "    except AttributeError as e:\n",
    "        print(e)\n",
    "    \n",
    "    except ConnectionError as e:\n",
    "        print(e)\n",
    "        \n",
    "    except ValueError as e:\n",
    "        print(e)\n",
    "        \n",
    "    except TimeoutError as e:\n",
    "        print(e)"
   ]
  },
  {
   "cell_type": "markdown",
   "metadata": {
    "ExecuteTime": {
     "end_time": "2020-12-23T10:38:40.466249Z",
     "start_time": "2020-12-23T10:38:38.944484Z"
    }
   },
   "source": [
    "first_future = first_future.reset_index()\n",
    "first_future['Date'] = first_future['date'] + first_future['time']\n",
    "first_future['Date'] = first_future['Date'].map(lambda x : datetime.strptime(x, '%Y%m%d%H%M'))\n",
    "first_future.set_index('Date', inplace = True)\n",
    "first_future = first_future.iloc[:,2:]\n",
    "first_future = first_future.apply(pd.to_numeric)\n",
    "future_list = first_future.columns.tolist()"
   ]
  },
  {
   "cell_type": "markdown",
   "metadata": {
    "ExecuteTime": {
     "end_time": "2020-12-23T10:39:19.116130Z",
     "start_time": "2020-12-23T10:39:16.839398Z"
    }
   },
   "source": [
    "first_future.to_csv('future_price_20201216_23.csv')"
   ]
  },
  {
   "cell_type": "markdown",
   "metadata": {},
   "source": [
    "### all future update"
   ]
  },
  {
   "cell_type": "code",
   "execution_count": 14,
   "metadata": {
    "ExecuteTime": {
     "end_time": "2020-12-28T10:54:20.882830Z",
     "start_time": "2020-12-28T10:54:20.871861Z"
    }
   },
   "outputs": [
    {
     "data": {
      "text/plain": [
       "Timestamp('2020-12-23 19:35:00')"
      ]
     },
     "execution_count": 14,
     "metadata": {},
     "output_type": "execute_result"
    }
   ],
   "source": [
    "update_crawl_date = future_close.index[-1] + timedelta(minutes = 1)\n",
    "update_crawl_date"
   ]
  },
  {
   "cell_type": "code",
   "execution_count": 15,
   "metadata": {
    "ExecuteTime": {
     "end_time": "2020-12-28T10:54:22.383656Z",
     "start_time": "2020-12-28T10:54:20.885823Z"
    }
   },
   "outputs": [
    {
     "name": "stdout",
     "output_type": "stream",
     "text": [
      "ETCUSDT 다운로드 완료\n",
      "소요 시간 :  1.4818742275238037\n"
     ]
    }
   ],
   "source": [
    "update_all = update_crawl('ETCUSDT', update_crawl_date)\n",
    "update_all = update_all.set_index('date')"
   ]
  },
  {
   "cell_type": "code",
   "execution_count": 16,
   "metadata": {
    "ExecuteTime": {
     "end_time": "2020-12-28T10:56:10.243384Z",
     "start_time": "2020-12-28T10:54:22.386649Z"
    },
    "scrolled": true
   },
   "outputs": [
    {
     "name": "stdout",
     "output_type": "stream",
     "text": [
      "SUSHIUSDT 다운로드 완료\n",
      "소요 시간 :  1.5870885848999023\n",
      "CVCUSDT 다운로드 완료\n",
      "소요 시간 :  1.6441841125488281\n",
      "BALUSDT 다운로드 완료\n",
      "소요 시간 :  1.5779564380645752\n",
      "KNCUSDT 다운로드 완료\n",
      "소요 시간 :  1.4987468719482422\n",
      "SRMUSDT 다운로드 완료\n",
      "소요 시간 :  1.419241189956665\n",
      "ENJUSDT 다운로드 완료\n",
      "소요 시간 :  1.4602556228637695\n",
      "ZRXUSDT 다운로드 완료\n",
      "소요 시간 :  1.3663437366485596\n",
      "QTUMUSDT 다운로드 완료\n",
      "소요 시간 :  1.3996632099151611\n",
      "ZENUSDT 다운로드 완료\n",
      "소요 시간 :  1.3566858768463135\n",
      "ATOMUSDT 다운로드 완료\n",
      "소요 시간 :  1.5572056770324707\n",
      "IOTAUSDT 다운로드 완료\n",
      "소요 시간 :  1.5709753036499023\n",
      "WAVESUSDT 다운로드 완료\n",
      "소요 시간 :  1.5889451503753662\n",
      "ADAUSDT 다운로드 완료\n",
      "소요 시간 :  1.7347378730773926\n",
      "NEARUSDT 다운로드 완료\n",
      "소요 시간 :  1.3270576000213623\n",
      "BCHUSDT 다운로드 완료\n",
      "소요 시간 :  1.472365140914917\n",
      "XTZUSDT 다운로드 완료\n",
      "소요 시간 :  1.6716456413269043\n",
      "BNBUSDT 다운로드 완료\n",
      "소요 시간 :  1.5382516384124756\n",
      "IOSTUSDT 다운로드 완료\n",
      "소요 시간 :  1.463791847229004\n",
      "HNTUSDT 다운로드 완료\n",
      "소요 시간 :  1.3891115188598633\n",
      "XMRUSDT 다운로드 완료\n",
      "소요 시간 :  1.3469610214233398\n",
      "YFIUSDT 다운로드 완료\n",
      "소요 시간 :  1.6147878170013428\n",
      "ZECUSDT 다운로드 완료\n",
      "소요 시간 :  1.2871079444885254\n",
      "ETHUSDT 다운로드 완료\n",
      "소요 시간 :  1.5039598941802979\n",
      "BZRXUSDT 다운로드 완료\n",
      "소요 시간 :  1.2772881984710693\n",
      "ALPHAUSDT 다운로드 완료\n",
      "소요 시간 :  1.2134292125701904\n",
      "AAVEUSDT 다운로드 완료\n",
      "소요 시간 :  1.518880844116211\n",
      "BATUSDT 다운로드 완료\n",
      "소요 시간 :  1.422633171081543\n",
      "ALGOUSDT 다운로드 완료\n",
      "소요 시간 :  1.4547252655029297\n",
      "DOGEUSDT 다운로드 완료\n",
      "소요 시간 :  1.494513750076294\n",
      "RLCUSDT 다운로드 완료\n",
      "소요 시간 :  1.2663309574127197\n",
      "TRXUSDT 다운로드 완료\n",
      "소요 시간 :  1.6204469203948975\n",
      "STORJUSDT 다운로드 완료\n",
      "소요 시간 :  1.5031378269195557\n",
      "SNXUSDT 다운로드 완료\n",
      "소요 시간 :  1.522782564163208\n",
      "LRCUSDT 다운로드 완료\n",
      "소요 시간 :  1.460397481918335\n",
      "AVAXUSDT 다운로드 완료\n",
      "소요 시간 :  1.5799977779388428\n",
      "XLMUSDT 다운로드 완료\n",
      "소요 시간 :  1.6375923156738281\n",
      "MATICUSDT 다운로드 완료\n",
      "소요 시간 :  1.5882184505462646\n",
      "NEOUSDT 다운로드 완료\n",
      "소요 시간 :  1.331200361251831\n",
      "MKRUSDT 다운로드 완료\n",
      "소요 시간 :  1.2807044982910156\n",
      "DASHUSDT 다운로드 완료\n",
      "소요 시간 :  1.35764479637146\n",
      "THETAUSDT 다운로드 완료\n",
      "소요 시간 :  1.4086723327636719\n",
      "KAVAUSDT 다운로드 완료\n",
      "소요 시간 :  1.607802391052246\n",
      "UNIUSDT 다운로드 완료\n",
      "소요 시간 :  1.4361226558685303\n",
      "RUNEUSDT 다운로드 완료\n",
      "소요 시간 :  1.4224917888641357\n",
      "CTKUSDT 다운로드 완료\n",
      "소요 시간 :  1.2807490825653076\n",
      "LINKUSDT 다운로드 완료\n",
      "소요 시간 :  1.4451112747192383\n",
      "FILUSDT 다운로드 완료\n",
      "소요 시간 :  1.3399302959442139\n",
      "0\n",
      "'NoneType' object has no attribute 'iloc'\n",
      "COMPUSDT 다운로드 완료\n",
      "소요 시간 :  1.4370157718658447\n",
      "RSRUSDT 다운로드 완료\n",
      "소요 시간 :  1.393761157989502\n",
      "SOLUSDT 다운로드 완료\n",
      "소요 시간 :  1.392970323562622\n",
      "BTCUSDT 다운로드 완료\n",
      "소요 시간 :  1.5533969402313232\n",
      "OMGUSDT 다운로드 완료\n",
      "소요 시간 :  1.6197340488433838\n",
      "ICXUSDT 다운로드 완료\n",
      "소요 시간 :  1.3407342433929443\n",
      "BLZUSDT 다운로드 완료\n",
      "소요 시간 :  1.2989237308502197\n",
      "RENUSDT 다운로드 완료\n",
      "소요 시간 :  1.374831199645996\n",
      "FTMUSDT 다운로드 완료\n",
      "소요 시간 :  1.3005545139312744\n",
      "TOMOUSDT 다운로드 완료\n",
      "소요 시간 :  1.2402007579803467\n",
      "YFIIUSDT 다운로드 완료\n",
      "소요 시간 :  1.3373703956604004\n",
      "LTCUSDT 다운로드 완료\n",
      "소요 시간 :  1.2685225009918213\n",
      "BANDUSDT 다운로드 완료\n",
      "소요 시간 :  1.2561273574829102\n",
      "XRPUSDT 다운로드 완료\n",
      "소요 시간 :  1.3919358253479004\n",
      "SXPUSDT 다운로드 완료\n",
      "소요 시간 :  1.3060150146484375\n",
      "CRVUSDT 다운로드 완료\n",
      "소요 시간 :  1.2564244270324707\n",
      "BELUSDT 다운로드 완료\n",
      "소요 시간 :  1.2630820274353027\n",
      "DOTUSDT 다운로드 완료\n",
      "소요 시간 :  1.3901476860046387\n",
      "EGLDUSDT 다운로드 완료\n",
      "소요 시간 :  1.5271432399749756\n",
      "KSMUSDT 다운로드 완료\n",
      "소요 시간 :  1.3574976921081543\n",
      "VETUSDT 다운로드 완료\n",
      "소요 시간 :  1.3370347023010254\n",
      "ONTUSDT 다운로드 완료\n",
      "소요 시간 :  1.2941453456878662\n",
      "TRBUSDT 다운로드 완료\n",
      "소요 시간 :  1.617325782775879\n",
      "ZILUSDT 다운로드 완료\n",
      "소요 시간 :  1.529723882675171\n",
      "AXSUSDT 다운로드 완료\n",
      "소요 시간 :  1.299595832824707\n",
      "OCEANUSDT 다운로드 완료\n",
      "소요 시간 :  1.4548683166503906\n",
      "FLMUSDT 다운로드 완료\n",
      "소요 시간 :  1.2489218711853027\n",
      "EOSUSDT 다운로드 완료\n",
      "소요 시간 :  1.3399579524993896\n"
     ]
    }
   ],
   "source": [
    "for symbol in symbol_list2 :\n",
    "    try : \n",
    "        tmp = update_crawl(symbol, update_crawl_date)\n",
    "        update_all[symbol] = tmp.iloc[:len(update_all), 2].tolist()\n",
    "\n",
    "    # 데이터 없을 경우 tmp가 none type이 되므로 attributeerror가 나게 됨\n",
    "    except AttributeError as e:\n",
    "        print(e)\n",
    "\n",
    "    except ConnectionError as e:\n",
    "        print(e)\n",
    "\n",
    "    except ValueError as e:\n",
    "        print(e)\n",
    "\n",
    "    except TimeoutError as e:\n",
    "        print(e)"
   ]
  },
  {
   "cell_type": "code",
   "execution_count": 17,
   "metadata": {
    "ExecuteTime": {
     "end_time": "2020-12-28T10:56:10.921274Z",
     "start_time": "2020-12-28T10:56:10.246363Z"
    }
   },
   "outputs": [],
   "source": [
    "update_all = update_all.reset_index()\n",
    "update_all['Date'] = update_all['date'] + update_all['time']\n",
    "update_all['Date'] = update_all['Date'].map(lambda x : datetime.strptime(x, '%Y%m%d%H%M'))\n",
    "update_all.set_index('Date', inplace = True)\n",
    "update_all = update_all.iloc[:,2:]\n",
    "update_all = update_all.apply(pd.to_numeric)"
   ]
  },
  {
   "cell_type": "code",
   "execution_count": 18,
   "metadata": {
    "ExecuteTime": {
     "end_time": "2020-12-28T10:56:10.939158Z",
     "start_time": "2020-12-28T10:56:10.923201Z"
    }
   },
   "outputs": [],
   "source": [
    "future_close = pd.concat([future_close,update_all])"
   ]
  },
  {
   "cell_type": "markdown",
   "metadata": {},
   "source": [
    "### 데이터 전처리"
   ]
  },
  {
   "cell_type": "code",
   "execution_count": 19,
   "metadata": {
    "ExecuteTime": {
     "end_time": "2020-12-28T10:56:10.967383Z",
     "start_time": "2020-12-28T10:56:10.942152Z"
    }
   },
   "outputs": [],
   "source": [
    "date_list = future_close['2020-12-17':].resample('1d').last().index.tolist()\n",
    "date_list = list(map(lambda x : datetime.strftime(x, '%Y-%m-%d %H:%M:%S')[:10], date_list))"
   ]
  },
  {
   "cell_type": "code",
   "execution_count": 20,
   "metadata": {
    "ExecuteTime": {
     "end_time": "2020-12-28T10:56:10.976096Z",
     "start_time": "2020-12-28T10:56:10.969080Z"
    }
   },
   "outputs": [],
   "source": [
    "# 날짜 선택\n",
    "start_date = date_list[0]\n",
    "end_date = date_list[-2]\n",
    "median_date = date_list[-4]\n",
    "t_date = date_list[-1]"
   ]
  },
  {
   "cell_type": "markdown",
   "metadata": {},
   "source": [
    "### pair 가져오기"
   ]
  },
  {
   "cell_type": "code",
   "execution_count": 21,
   "metadata": {
    "ExecuteTime": {
     "end_time": "2020-12-28T11:01:36.491308Z",
     "start_time": "2020-12-28T10:56:10.979092Z"
    }
   },
   "outputs": [
    {
     "name": "stdout",
     "output_type": "stream",
     "text": [
      "       pair_1    pair_2      corr               pair         p     gamma  \\\n",
      "913   RLCUSDT   CTKUSDT  0.903111    RLCUSDT-CTKUSDT  0.000232 -0.008372   \n",
      "863   CTKUSDT   BELUSDT  0.908330    CTKUSDT-BELUSDT  0.000515 -0.001270   \n",
      "768  COMPUSDT   KSMUSDT  0.917947   COMPUSDT-KSMUSDT  0.000524 -0.012934   \n",
      "837  AVAXUSDT   TRBUSDT  0.910741   AVAXUSDT-TRBUSDT  0.000575 -0.008591   \n",
      "363  COMPUSDT  YFIIUSDT  0.951421  COMPUSDT-YFIIUSDT  0.000721 -0.012499   \n",
      "197  TOMOUSDT   CRVUSDT  0.964862   TOMOUSDT-CRVUSDT  0.003926 -0.012075   \n",
      "2     XTZUSDT   OMGUSDT  0.991044    XTZUSDT-OMGUSDT  0.004338 -0.015196   \n",
      "327   NEOUSDT   FILUSDT  0.954567    NEOUSDT-FILUSDT  0.004900 -0.009015   \n",
      "692  AAVEUSDT  YFIIUSDT  0.923215  AAVEUSDT-YFIIUSDT  0.005806 -0.012021   \n",
      "581   LRCUSDT   RENUSDT  0.932999    LRCUSDT-RENUSDT  0.007519 -0.009440   \n",
      "\n",
      "     abs_gamma    h_mean  \n",
      "913   0.008372  0.000451  \n",
      "863   0.001270  0.000732  \n",
      "768   0.012934  0.001008  \n",
      "837   0.008591  0.001078  \n",
      "363   0.012499  0.001363  \n",
      "197   0.012075  0.005926  \n",
      "2     0.015196  0.006749  \n",
      "327   0.009015  0.006349  \n",
      "692   0.012021  0.007830  \n",
      "581   0.009440  0.008371  \n",
      "RLCUSDT CTKUSDT\n"
     ]
    }
   ],
   "source": [
    "# (pair_num, resample, start, end)\n",
    "selected_pair = get_low_p_pair(1, 5, start_date, end_date)\n",
    "\n",
    "# pair rank 선택\n",
    "pair_1 = selected_pair[0].split('-')[0]\n",
    "pair_2 = selected_pair[0].split('-')[1]\n",
    "print(pair_1, pair_2)"
   ]
  },
  {
   "cell_type": "markdown",
   "metadata": {},
   "source": [
    "### selected pair update"
   ]
  },
  {
   "cell_type": "code",
   "execution_count": 22,
   "metadata": {
    "ExecuteTime": {
     "end_time": "2020-12-28T11:01:36.505270Z",
     "start_time": "2020-12-28T11:01:36.495298Z"
    }
   },
   "outputs": [
    {
     "data": {
      "text/plain": [
       "Timestamp('2020-12-28 19:55:00')"
      ]
     },
     "execution_count": 22,
     "metadata": {},
     "output_type": "execute_result"
    }
   ],
   "source": [
    "update_crawl_date = future_close.index[-1] + timedelta(minutes = 1)\n",
    "update_crawl_date"
   ]
  },
  {
   "cell_type": "code",
   "execution_count": 23,
   "metadata": {
    "ExecuteTime": {
     "end_time": "2020-12-28T11:01:37.244338Z",
     "start_time": "2020-12-28T11:01:36.511256Z"
    }
   },
   "outputs": [
    {
     "name": "stdout",
     "output_type": "stream",
     "text": [
      "RLCUSDT 다운로드 완료\n",
      "소요 시간 :  0.3540520668029785\n",
      "CTKUSDT 다운로드 완료\n",
      "소요 시간 :  0.36206984519958496\n"
     ]
    }
   ],
   "source": [
    "# pair_1 crawling\n",
    "update_df = update_crawl(pair_1, update_crawl_date)\n",
    "update_df = update_df.set_index('date')\n",
    "\n",
    "# pair_2 crawling\n",
    "tmp = update_crawl(pair_2, update_crawl_date)\n",
    "update_df[pair_2] = tmp.iloc[:len(tmp), 2].tolist()"
   ]
  },
  {
   "cell_type": "code",
   "execution_count": 24,
   "metadata": {
    "ExecuteTime": {
     "end_time": "2020-12-28T11:01:37.268232Z",
     "start_time": "2020-12-28T11:01:37.248283Z"
    }
   },
   "outputs": [],
   "source": [
    "update_df = update_df.reset_index()\n",
    "update_df['Date'] = update_df['date'] + update_df['time']\n",
    "update_df['Date'] = update_df['Date'].map(lambda x : datetime.strptime(x, '%Y%m%d%H%M'))\n",
    "update_df.set_index('Date', inplace = True)\n",
    "update_df = update_df.iloc[:,2:]\n",
    "update_df = update_df.apply(pd.to_numeric)"
   ]
  },
  {
   "cell_type": "code",
   "execution_count": 25,
   "metadata": {
    "ExecuteTime": {
     "end_time": "2020-12-28T11:01:39.888376Z",
     "start_time": "2020-12-28T11:01:37.271223Z"
    }
   },
   "outputs": [],
   "source": [
    "future_close = pd.concat([future_close, update_df])\n",
    "future_log = future_close.applymap(lambda x : np.log(x))"
   ]
  },
  {
   "cell_type": "markdown",
   "metadata": {},
   "source": [
    "### beta, signal 생성"
   ]
  },
  {
   "cell_type": "code",
   "execution_count": 26,
   "metadata": {
    "ExecuteTime": {
     "end_time": "2020-12-28T11:01:40.113772Z",
     "start_time": "2020-12-28T11:01:39.890373Z"
    }
   },
   "outputs": [
    {
     "name": "stderr",
     "output_type": "stream",
     "text": [
      "C:\\Anaconda\\lib\\site-packages\\ipykernel_launcher.py:28: DeprecationWarning: The default dtype for empty Series will be 'object' instead of 'float64' in a future version. Specify a dtype explicitly to silence this warning.\n"
     ]
    }
   ],
   "source": [
    "(beta, signal_df, in_sample_signal_df, all_sample_signal_df) = get_signal(future_close, start_date, median_date, end_date,\n",
    "                                                                          pair_1, pair_2)"
   ]
  },
  {
   "cell_type": "code",
   "execution_count": 27,
   "metadata": {
    "ExecuteTime": {
     "end_time": "2020-12-28T11:01:40.815768Z",
     "start_time": "2020-12-28T11:01:40.122748Z"
    }
   },
   "outputs": [
    {
     "data": {
      "text/plain": [
       "<matplotlib.axes._subplots.AxesSubplot at 0x27d24cf3288>"
      ]
     },
     "execution_count": 27,
     "metadata": {},
     "output_type": "execute_result"
    },
    {
     "data": {
      "image/png": "[encoded data removed]",
      "text/plain": [
       "<Figure size 432x288 with 1 Axes>"
      ]
     },
     "metadata": {},
     "output_type": "display_data"
    }
   ],
   "source": [
    "sns.set_style('dark')\n",
    "all_sample_signal_df.plot()"
   ]
  },
  {
   "cell_type": "code",
   "execution_count": 28,
   "metadata": {
    "ExecuteTime": {
     "end_time": "2020-12-28T11:01:41.325872Z",
     "start_time": "2020-12-28T11:01:40.818684Z"
    }
   },
   "outputs": [
    {
     "data": {
      "text/plain": [
       "<matplotlib.axes._subplots.AxesSubplot at 0x27d24c59348>"
      ]
     },
     "execution_count": 28,
     "metadata": {},
     "output_type": "execute_result"
    },
    {
     "data": {
      "image/png": "[encoded data removed]",
      "text/plain": [
       "<Figure size 432x288 with 1 Axes>"
      ]
     },
     "metadata": {},
     "output_type": "display_data"
    }
   ],
   "source": [
    "in_sample_signal_df.plot()"
   ]
  },
  {
   "cell_type": "code",
   "execution_count": 29,
   "metadata": {
    "ExecuteTime": {
     "end_time": "2020-12-28T11:01:41.839498Z",
     "start_time": "2020-12-28T11:01:41.330860Z"
    }
   },
   "outputs": [
    {
     "data": {
      "text/plain": [
       "<matplotlib.axes._subplots.AxesSubplot at 0x27d24c65088>"
      ]
     },
     "execution_count": 29,
     "metadata": {},
     "output_type": "execute_result"
    },
    {
     "data": {
      "image/png": "[encoded data removed]",
      "text/plain": [
       "<Figure size 432x288 with 1 Axes>"
      ]
     },
     "metadata": {},
     "output_type": "display_data"
    }
   ],
   "source": [
    "signal_df.plot()"
   ]
  },
  {
   "cell_type": "code",
   "execution_count": 30,
   "metadata": {
    "ExecuteTime": {
     "end_time": "2020-12-28T11:01:41.862437Z",
     "start_time": "2020-12-28T11:01:41.843488Z"
    }
   },
   "outputs": [
    {
     "name": "stdout",
     "output_type": "stream",
     "text": [
      "pair_1 가격 : 0.8578\n",
      "pair_2 가격 : 0.8454\n",
      "RLCUSDT 1 size 매도 CTKUSDT 0.7378294059935899 size 매수 \n"
     ]
    }
   ],
   "source": [
    "# 종목 수량 계산\n",
    "print('pair_1 가격 : '  + str(future_close[pair_1][-1]) )\n",
    "print('pair_2 가격 : '  + str(future_close[pair_2][-1]) )\n",
    "\n",
    "pair1_shares = 1\n",
    "pair2_shares = 1 * beta\n",
    "if signal_df['signal'][-1] > 0:\n",
    "    print('{}'.format(pair_1) + ' {}'.format(pair1_shares) + ' size 매도 ' \\\n",
    "          + '{} '.format(pair_2)+ '{}'.format(pair2_shares) + ' size 매수 ')\n",
    "\n",
    "else : \n",
    "    print('{}'.format(pair_1) + ' {}'.format(pair1_shares) + ' size 매수 ' \\\n",
    "          + '{} '.format(pair_2)+ '{}'.format(pair2_shares) + ' size 매도 ')"
   ]
  },
  {
   "cell_type": "code",
   "execution_count": 31,
   "metadata": {
    "ExecuteTime": {
     "end_time": "2020-12-28T11:01:41.881386Z",
     "start_time": "2020-12-28T11:01:41.866427Z"
    }
   },
   "outputs": [
    {
     "data": {
      "text/plain": [
       "Date\n",
       "2020-12-16 00:00:00    0.9504\n",
       "2020-12-16 00:01:00    0.9504\n",
       "2020-12-16 00:02:00    0.9516\n",
       "2020-12-16 00:03:00    0.9573\n",
       "2020-12-16 00:04:00    0.9580\n",
       "                        ...  \n",
       "2020-12-28 19:57:00    0.8560\n",
       "2020-12-28 19:58:00    0.8563\n",
       "2020-12-28 19:59:00    0.8563\n",
       "2020-12-28 20:00:00    0.8563\n",
       "2020-12-28 20:01:00    0.8578\n",
       "Name: RLCUSDT, Length: 18191, dtype: float64"
      ]
     },
     "execution_count": 31,
     "metadata": {},
     "output_type": "execute_result"
    }
   ],
   "source": [
    "future_close[pair_1]"
   ]
  },
  {
   "cell_type": "code",
   "execution_count": 32,
   "metadata": {
    "ExecuteTime": {
     "end_time": "2020-12-28T11:01:41.899338Z",
     "start_time": "2020-12-28T11:01:41.884378Z"
    }
   },
   "outputs": [
    {
     "data": {
      "text/plain": [
       "Date\n",
       "2020-12-16 00:00:00    0.9818\n",
       "2020-12-16 00:01:00    0.9812\n",
       "2020-12-16 00:02:00    0.9802\n",
       "2020-12-16 00:03:00    0.9829\n",
       "2020-12-16 00:04:00    0.9850\n",
       "                        ...  \n",
       "2020-12-28 19:57:00    0.8458\n",
       "2020-12-28 19:58:00    0.8459\n",
       "2020-12-28 19:59:00    0.8476\n",
       "2020-12-28 20:00:00    0.8449\n",
       "2020-12-28 20:01:00    0.8454\n",
       "Name: CTKUSDT, Length: 18191, dtype: float64"
      ]
     },
     "execution_count": 32,
     "metadata": {},
     "output_type": "execute_result"
    }
   ],
   "source": [
    "future_close[pair_2]"
   ]
  },
  {
   "cell_type": "code",
   "execution_count": null,
   "metadata": {},
   "outputs": [],
   "source": []
  },
  {
   "cell_type": "code",
   "execution_count": 34,
   "metadata": {
    "ExecuteTime": {
     "end_time": "2020-12-28T11:01:42.423859Z",
     "start_time": "2020-12-28T11:01:42.415914Z"
    }
   },
   "outputs": [
    {
     "data": {
      "text/plain": [
       "'\\n1. 결국 pair1 몇개를 매수하고 pair2 몇개를 매도해야하는가\\nex) ln(A) = 2(hedge ratio) * ln(B)\\nstock B가 1% 오를 때 stock A가 2% 올라간다는 뜻 \\n따라서 market neutral하게 만들려면 stock B에 2배를 투자해야함\\ndollar amount에서 보면 10$를 투자한다고했을때,\\n주식 A amount = 10$ / (주식 A의 가격)\\n주식 B amount = 20$  / (주식 B의 가격)\\n\\n2. 매수 매도 판단\\nex) 현대 - beta * 기아\\nspread > 0 일 때, 현대차 매도 기아차 매수 (현대차 고평가, 기아차 저평가)\\nspread < 0 일 때, 현대차 매수 기아차 매도 (현대차 저평가, 기아차 고평가)\\n'"
      ]
     },
     "execution_count": 34,
     "metadata": {},
     "output_type": "execute_result"
    }
   ],
   "source": [
    "\"\"\"\n",
    "1. 결국 pair1 몇개를 매수하고 pair2 몇개를 매도해야하는가\n",
    "ex) ln(A) = 2(hedge ratio) * ln(B)\n",
    "stock B가 1% 오를 때 stock A가 2% 올라간다는 뜻 \n",
    "따라서 market neutral하게 만들려면 stock B에 2배를 투자해야함\n",
    "dollar amount에서 보면 10$를 투자한다고했을때,\n",
    "주식 A amount = 10$ / (주식 A의 가격)\n",
    "주식 B amount = 20$  / (주식 B의 가격)\n",
    "\n",
    "2. 매수 매도 판단\n",
    "ex) 현대 - beta * 기아\n",
    "spread > 0 일 때, 현대차 매도 기아차 매수 (현대차 고평가, 기아차 저평가)\n",
    "spread < 0 일 때, 현대차 매수 기아차 매도 (현대차 저평가, 기아차 고평가)\n",
    "\"\"\""
   ]
  },
  {
   "cell_type": "code",
   "execution_count": null,
   "metadata": {},
   "outputs": [],
   "source": []
  }
 ],
 "metadata": {
  "kernelspec": {
   "display_name": "Python 3",
   "language": "python",
   "name": "python3"
  },
  "language_info": {
   "codemirror_mode": {
    "name": "ipython",
    "version": 3
   },
   "file_extension": ".py",
   "mimetype": "text/x-python",
   "name": "python",
   "nbconvert_exporter": "python",
   "pygments_lexer": "ipython3",
   "version": "3.7.7"
  },
  "toc": {
   "base_numbering": 1,
   "nav_menu": {},
   "number_sections": true,
   "sideBar": true,
   "skip_h1_title": false,
   "title_cell": "Table of Contents",
   "title_sidebar": "Contents",
   "toc_cell": false,
   "toc_position": {
    "height": "calc(100% - 180px)",
    "left": "10px",
    "top": "150px",
    "width": "174.159px"
   },
   "toc_section_display": true,
   "toc_window_display": true
  }
 },
 "nbformat": 4,
 "nbformat_minor": 4
}

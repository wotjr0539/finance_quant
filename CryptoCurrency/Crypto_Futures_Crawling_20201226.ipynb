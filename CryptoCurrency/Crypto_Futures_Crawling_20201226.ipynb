{
 "cells": [
  {
   "cell_type": "code",
   "execution_count": 1,
   "metadata": {
    "ExecuteTime": {
     "end_time": "2020-12-25T20:31:23.031609Z",
     "start_time": "2020-12-25T20:31:16.887367Z"
    }
   },
   "outputs": [],
   "source": [
    "import requests\n",
    "from datetime import datetime\n",
    "import pandas as pd\n",
    "import time\n",
    "import ccxt\n",
    "import numpy as np\n",
    "import seaborn as sns\n",
    "import statsmodels.api as sm\n",
    "from scipy import stats"
   ]
  },
  {
   "cell_type": "code",
   "execution_count": 2,
   "metadata": {
    "ExecuteTime": {
     "end_time": "2020-12-25T20:31:23.131866Z",
     "start_time": "2020-12-25T20:31:23.036588Z"
    }
   },
   "outputs": [],
   "source": [
    "symbol = pd.read_excel('usdt_futures_symbol.xlsx')\n",
    "symbol_list = symbol['EOSUSDT'].tolist()\n",
    "symbol_list.append('EOSUSDT')"
   ]
  },
  {
   "cell_type": "code",
   "execution_count": 7,
   "metadata": {
    "ExecuteTime": {
     "end_time": "2020-12-25T20:32:12.716268Z",
     "start_time": "2020-12-25T20:32:12.707286Z"
    }
   },
   "outputs": [],
   "source": [
    "def to_datetime(timestamp) :\n",
    "    return datetime.fromtimestamp(timestamp/1000)\n",
    "\n",
    "def to_timestamp(date) :\n",
    "    tmp = datetime.strptime(date, '%Y-%m-%d')\n",
    "    return int((str(time.mktime(tmp.timetuple()))[:-2] + '000'))"
   ]
  },
  {
   "cell_type": "code",
   "execution_count": 5,
   "metadata": {
    "ExecuteTime": {
     "end_time": "2020-12-25T20:31:56.942946Z",
     "start_time": "2020-12-25T20:31:56.910034Z"
    }
   },
   "outputs": [],
   "source": [
    "def crawle_data(symbol) :\n",
    "    \n",
    "    try : \n",
    "        starting = time.time()\n",
    "\n",
    "        ep='https://api.binance.com'\n",
    "        candle = '/api/v3/klines'\n",
    "\n",
    "        start_date = []\n",
    "        start_time = []\n",
    "        openn = []\n",
    "        high = []\n",
    "        low = []\n",
    "        close = []\n",
    "        volume = []\n",
    "\n",
    "        #start = 1504224000000 # 17년 9월 1일 09:00:00 최초날짜\n",
    "        start = to_timestamp('2020-09-01') # 테스트를 위해 최근만 받아옴 (20년 11월 )\n",
    "        first_params_candle = {'symbol': symbol, 'interval' : '1m','startTime' : start , 'limit' : 1 } # 초기세팅\n",
    "        r1 = requests.get(ep+candle, params=first_params_candle )\n",
    "\n",
    "        while len(r1.json()) > 0 :\n",
    "            first_params_candle = {'symbol': symbol, 'interval' : '1m','startTime' : start , 'limit' : 1000 }\n",
    "            r1 = requests.get(ep+candle, params=first_params_candle ) #use parameter\n",
    "            req = r1.json()\n",
    "            for i in range(0,len(req)) : \n",
    "                start_date.append(datetime.fromtimestamp(req[i][0]/1000).strftime('%Y%m%d'))\n",
    "                start_time.append(datetime.fromtimestamp(req[i][0]/1000).strftime('%H%M'))\n",
    "                close.append(req[i][4])\n",
    "            if len(req) > 0 : # 받아온 데이터가 있을 경우 => 다음 루프 시작\n",
    "                start = req[-1][6]+1\n",
    "            else : print(symbol + \" 다운로드 완료\")\n",
    "            #time.sleep(0.25) # 횟수제한을 위해 추가\n",
    "\n",
    "        ticker = [symbol] * len(start_date)\n",
    "\n",
    "        chartData = {'date': start_date, 'time': start_time, 'ticker': ticker, 'close': close}\n",
    "\n",
    "        df = pd.DataFrame(chartData, columns=['date', 'time', 'ticker', 'close'])\n",
    "        df2 = df[['date', 'time', 'close']]\n",
    "        df2.columns = ['date', 'time', symbol]\n",
    "\n",
    "        print(\"소요 시간 : \", time.time() - starting)\n",
    "        \n",
    "        return df2\n",
    "    \n",
    "    # 데이터 안불러 와지는 경우 keyerror가 나므로 예외처리함\n",
    "    except KeyError as e :\n",
    "        print(e)"
   ]
  },
  {
   "cell_type": "code",
   "execution_count": 8,
   "metadata": {
    "ExecuteTime": {
     "end_time": "2020-12-25T20:32:43.184499Z",
     "start_time": "2020-12-25T20:32:14.680293Z"
    },
    "scrolled": true
   },
   "outputs": [
    {
     "name": "stdout",
     "output_type": "stream",
     "text": [
      "ETCUSDT 다운로드 완료\n",
      "소요 시간 :  28.4094979763031\n"
     ]
    }
   ],
   "source": [
    "first_future = crawle_data('ETCUSDT')\n",
    "first_future = first_future.set_index('date')\n",
    "\n",
    "symbol_list2 = symbol_list.copy()\n",
    "symbol_list2.remove('ETCUSDT')"
   ]
  },
  {
   "cell_type": "code",
   "execution_count": 10,
   "metadata": {
    "ExecuteTime": {
     "end_time": "2020-12-25T21:02:14.784874Z",
     "start_time": "2020-12-25T20:32:59.259356Z"
    }
   },
   "outputs": [
    {
     "name": "stdout",
     "output_type": "stream",
     "text": [
      "SUSHIUSDT 다운로드 완료\n",
      "소요 시간 :  26.590320825576782\n",
      "Length of values does not match length of index\n",
      "CVCUSDT 다운로드 완료\n",
      "소요 시간 :  24.777660608291626\n",
      "BALUSDT 다운로드 완료\n",
      "소요 시간 :  24.135157823562622\n",
      "KNCUSDT 다운로드 완료\n",
      "소요 시간 :  24.174421310424805\n",
      "SRMUSDT 다운로드 완료\n",
      "소요 시간 :  23.893764972686768\n",
      "ENJUSDT 다운로드 완료\n",
      "소요 시간 :  24.502938508987427\n",
      "ZRXUSDT 다운로드 완료\n",
      "소요 시간 :  23.99054217338562\n",
      "QTUMUSDT 다운로드 완료\n",
      "소요 시간 :  24.505005359649658\n",
      "ZENUSDT 다운로드 완료\n",
      "소요 시간 :  23.49861741065979\n",
      "ATOMUSDT 다운로드 완료\n",
      "소요 시간 :  25.227680921554565\n",
      "IOTAUSDT 다운로드 완료\n",
      "소요 시간 :  24.756871938705444\n",
      "WAVESUSDT 다운로드 완료\n",
      "소요 시간 :  24.317835807800293\n",
      "ADAUSDT 다운로드 완료\n",
      "소요 시간 :  25.555025100708008\n",
      "NEARUSDT 다운로드 완료\n",
      "소요 시간 :  16.01710557937622\n",
      "Length of values does not match length of index\n",
      "BCHUSDT 다운로드 완료\n",
      "소요 시간 :  25.17302441596985\n",
      "XTZUSDT 다운로드 완료\n",
      "소요 시간 :  25.378799200057983\n",
      "BNBUSDT 다운로드 완료\n",
      "소요 시간 :  26.401140689849854\n",
      "IOSTUSDT 다운로드 완료\n",
      "소요 시간 :  24.979830026626587\n",
      "HNTUSDT 다운로드 완료\n",
      "소요 시간 :  20.54502272605896\n",
      "Length of values does not match length of index\n",
      "XMRUSDT 다운로드 완료\n",
      "소요 시간 :  27.18128538131714\n",
      "YFIUSDT 다운로드 완료\n",
      "소요 시간 :  25.865792751312256\n",
      "ZECUSDT 다운로드 완료\n",
      "소요 시간 :  24.453566551208496\n",
      "ETHUSDT 다운로드 완료\n",
      "소요 시간 :  25.161674737930298\n",
      "BZRXUSDT 다운로드 완료\n",
      "소요 시간 :  24.265042543411255\n",
      "ALPHAUSDT 다운로드 완료\n",
      "소요 시간 :  14.773467302322388\n",
      "Length of values does not match length of index\n",
      "AAVEUSDT 다운로드 완료\n",
      "소요 시간 :  14.930089235305786\n",
      "Length of values does not match length of index\n",
      "BATUSDT 다운로드 완료\n",
      "소요 시간 :  22.228479385375977\n",
      "ALGOUSDT 다운로드 완료\n",
      "소요 시간 :  22.613547563552856\n",
      "DOGEUSDT 다운로드 완료\n",
      "소요 시간 :  23.016412258148193\n",
      "RLCUSDT 다운로드 완료\n",
      "소요 시간 :  23.553974151611328\n",
      "TRXUSDT 다운로드 완료\n",
      "소요 시간 :  24.157346963882446\n",
      "STORJUSDT 다운로드 완료\n",
      "소요 시간 :  24.77075719833374\n",
      "SNXUSDT 다운로드 완료\n",
      "소요 시간 :  23.628741025924683\n",
      "LRCUSDT 다운로드 완료\n",
      "소요 시간 :  22.733136653900146\n",
      "AVAXUSDT 다운로드 완료\n",
      "소요 시간 :  18.469623804092407\n",
      "Length of values does not match length of index\n",
      "XLMUSDT 다운로드 완료\n",
      "소요 시간 :  23.491137981414795\n",
      "MATICUSDT 다운로드 완료\n",
      "소요 시간 :  22.870800733566284\n",
      "NEOUSDT 다운로드 완료\n",
      "소요 시간 :  24.474512815475464\n",
      "MKRUSDT 다운로드 완료\n",
      "소요 시간 :  22.33926558494568\n",
      "DASHUSDT 다운로드 완료\n",
      "소요 시간 :  24.428633213043213\n",
      "THETAUSDT 다운로드 완료\n",
      "소요 시간 :  23.812320232391357\n",
      "KAVAUSDT 다운로드 완료\n",
      "소요 시간 :  23.57891035079956\n",
      "UNIUSDT 다운로드 완료\n",
      "소요 시간 :  22.888720989227295\n",
      "Length of values does not match length of index\n",
      "RUNEUSDT 다운로드 완료\n",
      "소요 시간 :  22.221540927886963\n",
      "Length of values does not match length of index\n",
      "CTKUSDT 다운로드 완료\n",
      "소요 시간 :  11.668776273727417\n",
      "Length of values does not match length of index\n",
      "LINKUSDT 다운로드 완료\n",
      "소요 시간 :  25.13472294807434\n",
      "FILUSDT 다운로드 완료\n",
      "소요 시간 :  14.838320970535278\n",
      "Length of values does not match length of index\n",
      "0\n",
      "'NoneType' object has no attribute 'iloc'\n",
      "COMPUSDT 다운로드 완료\n",
      "소요 시간 :  24.774706840515137\n",
      "RSRUSDT 다운로드 완료\n",
      "소요 시간 :  23.538012981414795\n",
      "SOLUSDT 다운로드 완료\n",
      "소요 시간 :  23.14108180999756\n",
      "BTCUSDT 다운로드 완료\n",
      "소요 시간 :  25.708259105682373\n",
      "OMGUSDT 다운로드 완료\n",
      "소요 시간 :  24.177311658859253\n",
      "ICXUSDT 다운로드 완료\n",
      "소요 시간 :  22.352190017700195\n",
      "BLZUSDT 다운로드 완료\n",
      "소요 시간 :  23.536052703857422\n",
      "RENUSDT 다운로드 완료\n",
      "소요 시간 :  23.307596445083618\n",
      "FTMUSDT 다운로드 완료\n",
      "소요 시간 :  23.654701709747314\n",
      "TOMOUSDT 다운로드 완료\n",
      "소요 시간 :  23.772356271743774\n",
      "YFIIUSDT 다운로드 완료\n",
      "소요 시간 :  24.58731436729431\n",
      "Length of values does not match length of index\n",
      "LTCUSDT 다운로드 완료\n",
      "소요 시간 :  25.103923082351685\n",
      "BANDUSDT 다운로드 완료\n",
      "소요 시간 :  23.368096828460693\n",
      "XRPUSDT 다운로드 완료\n",
      "소요 시간 :  27.09731149673462\n",
      "SXPUSDT 다운로드 완료\n",
      "소요 시간 :  26.06103205680847\n",
      "CRVUSDT 다운로드 완료\n",
      "소요 시간 :  23.870899200439453\n",
      "BELUSDT 다운로드 완료\n",
      "소요 시간 :  21.83003878593445\n",
      "Length of values does not match length of index\n",
      "DOTUSDT 다운로드 완료\n",
      "소요 시간 :  25.69351816177368\n",
      "EGLDUSDT 다운로드 완료\n",
      "소요 시간 :  22.983737468719482\n",
      "Length of values does not match length of index\n",
      "KSMUSDT 다운로드 완료\n",
      "소요 시간 :  23.427534103393555\n",
      "Length of values does not match length of index\n",
      "VETUSDT 다운로드 완료\n",
      "소요 시간 :  26.24183678627014\n",
      "ONTUSDT 다운로드 완료\n",
      "소요 시간 :  24.820231437683105\n",
      "TRBUSDT 다운로드 완료\n",
      "소요 시간 :  24.94420051574707\n",
      "ZILUSDT 다운로드 완료\n",
      "소요 시간 :  26.143691301345825\n",
      "AXSUSDT 다운로드 완료\n",
      "소요 시간 :  11.570426225662231\n",
      "Length of values does not match length of index\n",
      "OCEANUSDT 다운로드 완료\n",
      "소요 시간 :  25.30731725692749\n",
      "FLMUSDT 다운로드 완료\n",
      "소요 시간 :  20.149811267852783\n",
      "Length of values does not match length of index\n",
      "EOSUSDT 다운로드 완료\n",
      "소요 시간 :  26.550950288772583\n"
     ]
    }
   ],
   "source": [
    "for symbol in symbol_list2 : \n",
    "    \n",
    "    try : \n",
    "        tmp = crawle_data(symbol)\n",
    "        first_future[symbol] = tmp.iloc[:len(first_future), 2].tolist()\n",
    "    \n",
    "    # 데이터 없을 경우 tmp가 none type이 되므로 attributeerror가 나게 됨\n",
    "    except AttributeError as e:\n",
    "        print(e)\n",
    "    \n",
    "    except ConnectionError as e:\n",
    "        print(e)\n",
    "        \n",
    "    except ValueError as e:\n",
    "        print(e)\n",
    "        \n",
    "    except TimeoutError as e:\n",
    "        print(e)"
   ]
  },
  {
   "cell_type": "code",
   "execution_count": 11,
   "metadata": {
    "ExecuteTime": {
     "end_time": "2020-12-25T21:02:25.599692Z",
     "start_time": "2020-12-25T21:02:14.786869Z"
    }
   },
   "outputs": [],
   "source": [
    "first_future.to_csv('future_close_tmp.csv')"
   ]
  },
  {
   "cell_type": "code",
   "execution_count": 12,
   "metadata": {
    "ExecuteTime": {
     "end_time": "2020-12-25T21:02:28.582162Z",
     "start_time": "2020-12-25T21:02:25.604689Z"
    }
   },
   "outputs": [],
   "source": [
    "future_close = pd.read_csv('future_close_tmp.csv')"
   ]
  },
  {
   "cell_type": "code",
   "execution_count": 15,
   "metadata": {
    "ExecuteTime": {
     "end_time": "2020-12-25T21:04:44.217122Z",
     "start_time": "2020-12-25T21:04:30.652361Z"
    }
   },
   "outputs": [],
   "source": [
    "# 데이터 날짜 전처리\n",
    "future_close = first_future.reset_index()\n",
    "future_close['Date'] = future_close['date'] + future_close['time']\n",
    "future_close['Date'] = future_close['Date'].map(lambda x : datetime.strptime(x, '%Y%m%d%H%M'))\n",
    "future_close.set_index('Date', inplace = True)\n",
    "future_close = future_close.iloc[:,2:]\n",
    "future_close = future_close.apply(pd.to_numeric)\n",
    "future_list = future_close.columns.tolist()"
   ]
  },
  {
   "cell_type": "code",
   "execution_count": 16,
   "metadata": {
    "ExecuteTime": {
     "end_time": "2020-12-25T21:05:13.061659Z",
     "start_time": "2020-12-25T21:04:52.301947Z"
    }
   },
   "outputs": [],
   "source": [
    "future_close.to_csv('future_close_20200901_1226.')"
   ]
  },
  {
   "cell_type": "code",
   "execution_count": null,
   "metadata": {},
   "outputs": [],
   "source": []
  }
 ],
 "metadata": {
  "kernelspec": {
   "display_name": "Python 3",
   "language": "python",
   "name": "python3"
  },
  "language_info": {
   "codemirror_mode": {
    "name": "ipython",
    "version": 3
   },
   "file_extension": ".py",
   "mimetype": "text/x-python",
   "name": "python",
   "nbconvert_exporter": "python",
   "pygments_lexer": "ipython3",
   "version": "3.7.7"
  },
  "toc": {
   "base_numbering": 1,
   "nav_menu": {},
   "number_sections": true,
   "sideBar": true,
   "skip_h1_title": false,
   "title_cell": "Table of Contents",
   "title_sidebar": "Contents",
   "toc_cell": false,
   "toc_position": {},
   "toc_section_display": true,
   "toc_window_display": false
  }
 },
 "nbformat": 4,
 "nbformat_minor": 4
}
